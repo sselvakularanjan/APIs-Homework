{
 "cells": [
  {
   "cell_type": "code",
   "execution_count": 8,
   "metadata": {},
   "outputs": [],
   "source": [
    "#Import Libraries and Dependencies\n",
    "import os\n",
    "import plaid\n",
    "import requests\n",
    "import datetime\n",
    "import json\n",
    "import pandas as pd\n",
    "%matplotlib inline"
   ]
  },
  {
   "cell_type": "code",
   "execution_count": 9,
   "metadata": {},
   "outputs": [],
   "source": [
    "def pretty_print_response(response):\n",
    "  print(json.dumps(response, indent=4, sort_keys=True))"
   ]
  },
  {
   "cell_type": "code",
   "execution_count": 10,
   "metadata": {},
   "outputs": [],
   "source": [
    "# Bring Env Variables into Python/Store in Variables\n",
    "PLAID_CLIENT_ID = os.getenv('PLAID_CLIENT_ID')\n",
    "PLAID_SBX_SECRET_KEY = os.getenv('PLAID_SBX_SECRET_KEY')\n",
    "PLAID_PUBLIC_KEY = os.getenv('PLAID_PUBLIC_KEY')\n",
    "PLAID_ENV = os.getenv('PLAID_ENV', 'sandbox')\n",
    "PLAID_PRODUCTS = os.getenv('PLAID_PRODUCTS', 'transactions')"
   ]
  },
  {
   "cell_type": "markdown",
   "metadata": {},
   "source": [
    "# Plaid Access Token\n",
    "\n",
    "In this section, you will use the plaid-python api to generate the correct authentication tokens to access data in the free developer Sandbox. This mimics how you might connect to your own account or a customer account, but due to privacy issues, this homework will only require connecting to and analyzing the fake data from the developer sandbox that Plaid provides. \n",
    "\n",
    "Complete the following steps to generate an access token:\n",
    "1. Create a client to connect to plaid\n",
    "2. Use the client to generate a public token and request the following items: \n",
    "['transactions', 'income', 'assets']\n",
    "3. Exchange the public token for an access token\n",
    "4. Test the access token by requesting and printing the available test accounts"
   ]
  },
  {
   "cell_type": "markdown",
   "metadata": {},
   "source": [
    "### 1. Create a client to connect to plaid"
   ]
  },
  {
   "cell_type": "code",
   "execution_count": 11,
   "metadata": {},
   "outputs": [],
   "source": [
    "INSTITUTION_ID = \"ins_109508\""
   ]
  },
  {
   "cell_type": "code",
   "execution_count": 12,
   "metadata": {},
   "outputs": [],
   "source": [
    "client = plaid.Client(client_id=PLAID_CLIENT_ID, secret=PLAID_SBX_SECRET_KEY, public_key=PLAID_PUBLIC_KEY, environment='sandbox')"
   ]
  },
  {
   "cell_type": "markdown",
   "metadata": {},
   "source": [
    "### 2. Generate a public token"
   ]
  },
  {
   "cell_type": "code",
   "execution_count": 13,
   "metadata": {},
   "outputs": [],
   "source": [
    "token_response = client.Sandbox.public_token.create(INSTITUTION_ID, ['transactions','income','assets'])"
   ]
  },
  {
   "cell_type": "markdown",
   "metadata": {},
   "source": [
    "### 3. Exchange the public token for an access token"
   ]
  },
  {
   "cell_type": "code",
   "execution_count": 15,
   "metadata": {},
   "outputs": [
    {
     "data": {
      "text/plain": [
       "'access-sandbox-4f4efe2d-0f02-44b2-bebe-fbc8677749bb'"
      ]
     },
     "execution_count": 15,
     "metadata": {},
     "output_type": "execute_result"
    }
   ],
   "source": [
    "exchange_response = client.Item.public_token.exchange(token_response['public_token'])\n",
    "\n",
    "#Store access token as variable.\n",
    "access_token = exchange_response['access_token']\n",
    "access_token"
   ]
  },
  {
   "cell_type": "markdown",
   "metadata": {},
   "source": [
    "### 4. Fetch Accounts"
   ]
  },
  {
   "cell_type": "code",
   "execution_count": 16,
   "metadata": {
    "scrolled": true
   },
   "outputs": [
    {
     "data": {
      "text/plain": [
       "{'accounts': [{'account_id': 'pNNl5e3P1oIk1Xb43BnQtjy11B9akpfLJVp4E',\n",
       "   'balances': {'available': 100,\n",
       "    'current': 110,\n",
       "    'iso_currency_code': 'USD',\n",
       "    'limit': None,\n",
       "    'unofficial_currency_code': None},\n",
       "   'mask': '0000',\n",
       "   'name': 'Plaid Checking',\n",
       "   'official_name': 'Plaid Gold Standard 0% Interest Checking',\n",
       "   'subtype': 'checking',\n",
       "   'type': 'depository'},\n",
       "  {'account_id': 'o44W57BJMpHkygL4BAdVtKjaaVJxAXSRp7oaK',\n",
       "   'balances': {'available': 200,\n",
       "    'current': 210,\n",
       "    'iso_currency_code': 'USD',\n",
       "    'limit': None,\n",
       "    'unofficial_currency_code': None},\n",
       "   'mask': '1111',\n",
       "   'name': 'Plaid Saving',\n",
       "   'official_name': 'Plaid Silver Standard 0.1% Interest Saving',\n",
       "   'subtype': 'savings',\n",
       "   'type': 'depository'},\n",
       "  {'account_id': 'gKKNb35P4jcNz7Gd4DlpUwGDDQE7JAFgLnEbr',\n",
       "   'balances': {'available': None,\n",
       "    'current': 1000,\n",
       "    'iso_currency_code': 'USD',\n",
       "    'limit': None,\n",
       "    'unofficial_currency_code': None},\n",
       "   'mask': '2222',\n",
       "   'name': 'Plaid CD',\n",
       "   'official_name': 'Plaid Bronze Standard 0.2% Interest CD',\n",
       "   'subtype': 'cd',\n",
       "   'type': 'depository'},\n",
       "  {'account_id': '8eevpQkDlBSrB1ZMGyjmuabQQNlVmrcwZLWAg',\n",
       "   'balances': {'available': None,\n",
       "    'current': 410,\n",
       "    'iso_currency_code': 'USD',\n",
       "    'limit': 2000,\n",
       "    'unofficial_currency_code': None},\n",
       "   'mask': '3333',\n",
       "   'name': 'Plaid Credit Card',\n",
       "   'official_name': 'Plaid Diamond 12.5% APR Interest Credit Card',\n",
       "   'subtype': 'credit card',\n",
       "   'type': 'credit'},\n",
       "  {'account_id': 'EGGn965wjMUGE1JLNwdzuXa66QVApJtXgk4w6',\n",
       "   'balances': {'available': 43200,\n",
       "    'current': 43200,\n",
       "    'iso_currency_code': 'USD',\n",
       "    'limit': None,\n",
       "    'unofficial_currency_code': None},\n",
       "   'mask': '4444',\n",
       "   'name': 'Plaid Money Market',\n",
       "   'official_name': 'Plaid Platinum Standard 1.85% Interest Money Market',\n",
       "   'subtype': 'money market',\n",
       "   'type': 'depository'},\n",
       "  {'account_id': 'WvvpR95Lm6U6nVJbAKlrCRK66eDjrEulP16rx',\n",
       "   'balances': {'available': None,\n",
       "    'current': 320.76,\n",
       "    'iso_currency_code': 'USD',\n",
       "    'limit': None,\n",
       "    'unofficial_currency_code': None},\n",
       "   'mask': '5555',\n",
       "   'name': 'Plaid IRA',\n",
       "   'official_name': None,\n",
       "   'subtype': 'ira',\n",
       "   'type': 'investment'},\n",
       "  {'account_id': 'A884nmRxa7sAvkEm7QLqcMQqqd4PGBi14A973',\n",
       "   'balances': {'available': None,\n",
       "    'current': 23631.9805,\n",
       "    'iso_currency_code': 'USD',\n",
       "    'limit': None,\n",
       "    'unofficial_currency_code': None},\n",
       "   'mask': '6666',\n",
       "   'name': 'Plaid 401k',\n",
       "   'official_name': None,\n",
       "   'subtype': '401k',\n",
       "   'type': 'investment'},\n",
       "  {'account_id': 'GvvRQm5yeLUMG4a8QRyoF93xxkV61gs1GP6lj',\n",
       "   'balances': {'available': None,\n",
       "    'current': 65262,\n",
       "    'iso_currency_code': 'USD',\n",
       "    'limit': None,\n",
       "    'unofficial_currency_code': None},\n",
       "   'mask': '7777',\n",
       "   'name': 'Plaid Student Loan',\n",
       "   'official_name': None,\n",
       "   'subtype': 'student',\n",
       "   'type': 'loan'}],\n",
       " 'item': {'available_products': ['auth',\n",
       "   'balance',\n",
       "   'credit_details',\n",
       "   'identity',\n",
       "   'investments',\n",
       "   'liabilities'],\n",
       "  'billed_products': ['assets', 'income', 'transactions'],\n",
       "  'consent_expiration_time': None,\n",
       "  'error': None,\n",
       "  'institution_id': 'ins_109508',\n",
       "  'item_id': 'NvvMR957okUzGynVP8vNHekWoJ7BoyTW3pEmA',\n",
       "  'webhook': ''},\n",
       " 'request_id': 'Ej13JpP45FpbIxr'}"
      ]
     },
     "execution_count": 16,
     "metadata": {},
     "output_type": "execute_result"
    }
   ],
   "source": [
    "client.Accounts.get(access_token)"
   ]
  },
  {
   "cell_type": "markdown",
   "metadata": {},
   "source": [
    "---"
   ]
  },
  {
   "cell_type": "markdown",
   "metadata": {},
   "source": [
    "# Account Transactions with Plaid\n",
    "\n",
    "In this section, you will use the Plaid Python SDK to connect to the Developer Sandbox account and grab a list of transactions. You will need to complete the following steps:\n",
    "\n",
    "\n",
    "1. Use the access token to fetch the transactions for the last 90 days\n",
    "2. Print the categories for each transaction type\n",
    "3. Create a new DataFrame using the following fields from the JSON transaction data: `date, name, amount, category`. (For categories with more than one label, just use the first category label in the list)\n",
    "4. Convert the data types to the appropriate types (i.e. datetimeindex for the date and float for the amount)"
   ]
  },
  {
   "cell_type": "markdown",
   "metadata": {},
   "source": [
    "### 1. Fetch the Transactions for the last 90 days"
   ]
  },
  {
   "cell_type": "code",
   "execution_count": 24,
   "metadata": {},
   "outputs": [],
   "source": [
    "# Extract Transactions with Specific Date Range\n",
    "start_date = '{:%Y-%m-%d}'.format(datetime.datetime.now() + datetime.timedelta(-90))\n",
    "end_date = '{:%Y-%m-%d}'.format(datetime.datetime.now()) \n",
    "transactions_response = client.Transactions.get(access_token, start_date, end_date)"
   ]
  },
  {
   "cell_type": "code",
   "execution_count": 29,
   "metadata": {
    "scrolled": true
   },
   "outputs": [
    {
     "data": {
      "text/plain": [
       "'[\\n    {\\n        \"account_id\": \"o44W57BJMpHkygL4BAdVtKjaaVJxAXSRp7oaK\",\\n        \"account_owner\": null,\\n        \"amount\": 25,\\n        \"authorized_date\": null,\\n        \"category\": [\\n            \"Payment\",\\n            \"Credit Card\"\\n        ],\\n        \"category_id\": \"16001000\",\\n        \"date\": \"2020-01-16\",\\n        \"iso_currency_code\": \"USD\",\\n        \"location\": {\\n            \"address\": null,\\n            \"city\": null,\\n            \"country\": null,\\n            \"lat\": null,\\n            \"lon\": null,\\n            \"postal_code\": null,\\n            \"region\": null,\\n            \"store_number\": null\\n        },\\n        \"name\": \"CREDIT CARD 3333 PAYMENT *//\",\\n        \"payment_channel\": \"other\",\\n        \"payment_meta\": {\\n            \"by_order_of\": null,\\n            \"payee\": null,\\n            \"payer\": null,\\n            \"payment_method\": null,\\n            \"payment_processor\": null,\\n            \"ppd_id\": null,\\n            \"reason\": null,\\n            \"reference_number\": null\\n        },\\n        \"pending\": false,\\n        \"pending_transaction_id\": null,\\n        \"transaction_id\": \"ellyvz5PdNTP6ZnAd7x1tPrelmXNgetLa5rgN\",\\n        \"transaction_type\": \"special\",\\n        \"unofficial_currency_code\": null\\n    },\\n    {\\n        \"account_id\": \"pNNl5e3P1oIk1Xb43BnQtjy11B9akpfLJVp4E\",\\n        \"account_owner\": null,\\n        \"amount\": 5.4,\\n        \"authorized_date\": null,\\n        \"category\": [\\n            \"Travel\",\\n            \"Car Service\",\\n            \"Ride Share\"\\n        ],\\n        \"category_id\": \"22006001\",\\n        \"date\": \"2020-01-16\",\\n        \"iso_currency_code\": \"USD\",\\n        \"location\": {\\n            \"address\": null,\\n            \"city\": null,\\n            \"country\": null,\\n            \"lat\": null,\\n            \"lon\": null,\\n            \"postal_code\": null,\\n            \"region\": null,\\n            \"store_number\": null\\n        },\\n        \"name\": \"Uber 063015 SF**POOL**\",\\n        \"payment_channel\": \"online\",\\n        \"payment_meta\": {\\n            \"by_order_of\": null,\\n            \"payee\": null,\\n            \"payer\": null,\\n            \"payment_method\": null,\\n            \"payment_processor\": null,\\n            \"ppd_id\": null,\\n            \"reason\": null,\\n            \"reference_number\": null\\n        },\\n        \"pending\": false,\\n        \"pending_transaction_id\": null,\\n        \"transaction_id\": \"avvPel5BzxUdP6lozRByh7dgkzWxMgS7kQZNJ\",\\n        \"transaction_type\": \"special\",\\n        \"unofficial_currency_code\": null\\n    },\\n    {\\n        \"account_id\": \"EGGn965wjMUGE1JLNwdzuXa66QVApJtXgk4w6\",\\n        \"account_owner\": null,\\n        \"amount\": 5850,\\n        \"authorized_date\": null,\\n        \"category\": [\\n            \"Transfer\",\\n            \"Debit\"\\n        ],\\n        \"category_id\": \"21006000\",\\n        \"date\": \"2020-01-15\",\\n        \"iso_currency_code\": \"USD\",\\n        \"location\": {\\n            \"address\": null,\\n            \"city\": null,\\n            \"country\": null,\\n            \"lat\": null,\\n            \"lon\": null,\\n            \"postal_code\": null,\\n            \"region\": null,\\n            \"store_number\": null\\n        },\\n        \"name\": \"ACH Electronic CreditGUSTO PAY 123456\",\\n        \"payment_channel\": \"other\",\\n        \"payment_meta\": {\\n            \"by_order_of\": null,\\n            \"payee\": null,\\n            \"payer\": null,\\n            \"payment_method\": \"ACH\",\\n            \"payment_processor\": null,\\n            \"ppd_id\": null,\\n            \"reason\": null,\\n            \"reference_number\": null\\n        },\\n        \"pending\": false,\\n        \"pending_transaction_id\": null,\\n        \"transaction_id\": \"8eevpQkDlBSrB1ZMGyjmuabQ8AvZLQuwZLWnv\",\\n        \"transaction_type\": \"special\",\\n        \"unofficial_currency_code\": null\\n    },\\n    {\\n        \"account_id\": \"gKKNb35P4jcNz7Gd4DlpUwGDDQE7JAFgLnEbr\",\\n        \"account_owner\": null,\\n        \"amount\": 1000,\\n        \"authorized_date\": null,\\n        \"category\": [\\n            \"Transfer\",\\n            \"Deposit\"\\n        ],\\n        \"category_id\": \"21007000\",\\n        \"date\": \"2020-01-15\",\\n        \"iso_currency_code\": \"USD\",\\n        \"location\": {\\n            \"address\": null,\\n            \"city\": null,\\n            \"country\": null,\\n            \"lat\": null,\\n            \"lon\": null,\\n            \"postal_code\": null,\\n            \"region\": null,\\n            \"store_number\": null\\n        },\\n        \"name\": \"CD DEPOSIT .INITIAL.\",\\n        \"payment_channel\": \"other\",\\n        \"payment_meta\": {\\n            \"by_order_of\": null,\\n            \"payee\": null,\\n            \"payer\": null,\\n            \"payment_method\": null,\\n            \"payment_processor\": null,\\n            \"ppd_id\": null,\\n            \"reason\": null,\\n            \"reference_number\": null\\n        },\\n        \"pending\": false,\\n        \"pending_transaction_id\": null,\\n        \"transaction_id\": \"ZXXpqJ58vlTQr6EXAx53u3dQ9agl7QtgJXe3E\",\\n        \"transaction_type\": \"special\",\\n        \"unofficial_currency_code\": null\\n    },\\n    {\\n        \"account_id\": \"8eevpQkDlBSrB1ZMGyjmuabQQNlVmrcwZLWAg\",\\n        \"account_owner\": null,\\n        \"amount\": 78.5,\\n        \"authorized_date\": null,\\n        \"category\": [\\n            \"Recreation\",\\n            \"Gyms and Fitness Centers\"\\n        ],\\n        \"category_id\": \"17018000\",\\n        \"date\": \"2020-01-14\",\\n        \"iso_currency_code\": \"USD\",\\n        \"location\": {\\n            \"address\": null,\\n            \"city\": null,\\n            \"country\": null,\\n            \"lat\": null,\\n            \"lon\": null,\\n            \"postal_code\": null,\\n            \"region\": null,\\n            \"store_number\": null\\n        },\\n        \"name\": \"Touchstone Climbing\",\\n        \"payment_channel\": \"in store\",\\n        \"payment_meta\": {\\n            \"by_order_of\": null,\\n            \"payee\": null,\\n            \"payer\": null,\\n            \"payment_method\": null,\\n            \"payment_processor\": null,\\n            \"ppd_id\": null,\\n            \"reason\": null,\\n            \"reference_number\": null\\n        },\\n        \"pending\": false,\\n        \"pending_transaction_id\": null,\\n        \"transaction_id\": \"MvvR7m5jpWUrdQkZNgyPuLyB4zablBc94PLKl\",\\n        \"transaction_type\": \"place\",\\n        \"unofficial_currency_code\": null\\n    },\\n    {\\n        \"account_id\": \"pNNl5e3P1oIk1Xb43BnQtjy11B9akpfLJVp4E\",\\n        \"account_owner\": null,\\n        \"amount\": -500,\\n        \"authorized_date\": null,\\n        \"category\": [\\n            \"Travel\",\\n            \"Airlines and Aviation Services\"\\n        ],\\n        \"category_id\": \"22001000\",\\n        \"date\": \"2020-01-14\",\\n        \"iso_currency_code\": \"USD\",\\n        \"location\": {\\n            \"address\": null,\\n            \"city\": null,\\n            \"country\": null,\\n            \"lat\": null,\\n            \"lon\": null,\\n            \"postal_code\": null,\\n            \"region\": null,\\n            \"store_number\": null\\n        },\\n        \"name\": \"United Airlines\",\\n        \"payment_channel\": \"other\",\\n        \"payment_meta\": {\\n            \"by_order_of\": null,\\n            \"payee\": null,\\n            \"payer\": null,\\n            \"payment_method\": null,\\n            \"payment_processor\": null,\\n            \"ppd_id\": null,\\n            \"reason\": null,\\n            \"reference_number\": null\\n        },\\n        \"pending\": false,\\n        \"pending_transaction_id\": null,\\n        \"transaction_id\": \"4NNprPoa9qIoeDG7NyBMtQEoXez95oHdlAJob\",\\n        \"transaction_type\": \"special\",\\n        \"unofficial_currency_code\": null\\n    },\\n    {\\n        \"account_id\": \"pNNl5e3P1oIk1Xb43BnQtjy11B9akpfLJVp4E\",\\n        \"account_owner\": null,\\n        \"amount\": 12,\\n        \"authorized_date\": null,\\n        \"category\": [\\n            \"Food and Drink\",\\n            \"Restaurants\"\\n        ],\\n        \"category_id\": \"13005000\",\\n        \"date\": \"2020-01-13\",\\n        \"iso_currency_code\": \"USD\",\\n        \"location\": {\\n            \"address\": null,\\n            \"city\": null,\\n            \"country\": null,\\n            \"lat\": null,\\n            \"lon\": null,\\n            \"postal_code\": null,\\n            \"region\": null,\\n            \"store_number\": \"3322\"\\n        },\\n        \"name\": \"McDonald\\'s\",\\n        \"payment_channel\": \"in store\",\\n        \"payment_meta\": {\\n            \"by_order_of\": null,\\n            \"payee\": null,\\n            \"payer\": null,\\n            \"payment_method\": null,\\n            \"payment_processor\": null,\\n            \"ppd_id\": null,\\n            \"reason\": null,\\n            \"reference_number\": null\\n        },\\n        \"pending\": false,\\n        \"pending_transaction_id\": null,\\n        \"transaction_id\": \"NvvMR957okUzGynVP8vNHekWX34mjWsWX5y3J\",\\n        \"transaction_type\": \"place\",\\n        \"unofficial_currency_code\": null\\n    },\\n    {\\n        \"account_id\": \"pNNl5e3P1oIk1Xb43BnQtjy11B9akpfLJVp4E\",\\n        \"account_owner\": null,\\n        \"amount\": 4.33,\\n        \"authorized_date\": null,\\n        \"category\": [\\n            \"Food and Drink\",\\n            \"Restaurants\",\\n            \"Coffee Shop\"\\n        ],\\n        \"category_id\": \"13005043\",\\n        \"date\": \"2020-01-13\",\\n        \"iso_currency_code\": \"USD\",\\n        \"location\": {\\n            \"address\": null,\\n            \"city\": null,\\n            \"country\": null,\\n            \"lat\": null,\\n            \"lon\": null,\\n            \"postal_code\": null,\\n            \"region\": null,\\n            \"store_number\": null\\n        },\\n        \"name\": \"Starbucks\",\\n        \"payment_channel\": \"in store\",\\n        \"payment_meta\": {\\n            \"by_order_of\": null,\\n            \"payee\": null,\\n            \"payer\": null,\\n            \"payment_method\": null,\\n            \"payment_processor\": null,\\n            \"ppd_id\": null,\\n            \"reason\": null,\\n            \"reference_number\": null\\n        },\\n        \"pending\": false,\\n        \"pending_transaction_id\": null,\\n        \"transaction_id\": \"Pvvjbw5Q8nU31WeXMLBNf1vMXZPGkMI7XWo1P\",\\n        \"transaction_type\": \"place\",\\n        \"unofficial_currency_code\": null\\n    },\\n    {\\n        \"account_id\": \"pNNl5e3P1oIk1Xb43BnQtjy11B9akpfLJVp4E\",\\n        \"account_owner\": null,\\n        \"amount\": 89.4,\\n        \"authorized_date\": null,\\n        \"category\": [\\n            \"Food and Drink\",\\n            \"Restaurants\"\\n        ],\\n        \"category_id\": \"13005000\",\\n        \"date\": \"2020-01-12\",\\n        \"iso_currency_code\": \"USD\",\\n        \"location\": {\\n            \"address\": null,\\n            \"city\": null,\\n            \"country\": null,\\n            \"lat\": null,\\n            \"lon\": null,\\n            \"postal_code\": null,\\n            \"region\": null,\\n            \"store_number\": null\\n        },\\n        \"name\": \"SparkFun\",\\n        \"payment_channel\": \"in store\",\\n        \"payment_meta\": {\\n            \"by_order_of\": null,\\n            \"payee\": null,\\n            \"payer\": null,\\n            \"payment_method\": null,\\n            \"payment_processor\": null,\\n            \"ppd_id\": null,\\n            \"reason\": null,\\n            \"reference_number\": null\\n        },\\n        \"pending\": false,\\n        \"pending_transaction_id\": null,\\n        \"transaction_id\": \"jBBkbalJjQI7rwdNDRjVt6G1j9Wqr1F1vL6E3\",\\n        \"transaction_type\": \"place\",\\n        \"unofficial_currency_code\": null\\n    },\\n    {\\n        \"account_id\": \"o44W57BJMpHkygL4BAdVtKjaaVJxAXSRp7oaK\",\\n        \"account_owner\": null,\\n        \"amount\": -4.22,\\n        \"authorized_date\": null,\\n        \"category\": [\\n            \"Transfer\",\\n            \"Credit\"\\n        ],\\n        \"category_id\": \"21005000\",\\n        \"date\": \"2020-01-11\",\\n        \"iso_currency_code\": \"USD\",\\n        \"location\": {\\n            \"address\": null,\\n            \"city\": null,\\n            \"country\": null,\\n            \"lat\": null,\\n            \"lon\": null,\\n            \"postal_code\": null,\\n            \"region\": null,\\n            \"store_number\": null\\n        },\\n        \"name\": \"INTRST PYMNT\",\\n        \"payment_channel\": \"other\",\\n        \"payment_meta\": {\\n            \"by_order_of\": null,\\n            \"payee\": null,\\n            \"payer\": null,\\n            \"payment_method\": null,\\n            \"payment_processor\": null,\\n            \"ppd_id\": null,\\n            \"reason\": null,\\n            \"reference_number\": null\\n        },\\n        \"pending\": false,\\n        \"pending_transaction_id\": null,\\n        \"transaction_id\": \"Qww7Jk5XEbCxbRgJAP1Nc13LNVjEMLIpG7w11\",\\n        \"transaction_type\": \"special\",\\n        \"unofficial_currency_code\": null\\n    },\\n    {\\n        \"account_id\": \"8eevpQkDlBSrB1ZMGyjmuabQQNlVmrcwZLWAg\",\\n        \"account_owner\": null,\\n        \"amount\": 500,\\n        \"authorized_date\": null,\\n        \"category\": [\\n            \"Travel\",\\n            \"Airlines and Aviation Services\"\\n        ],\\n        \"category_id\": \"22001000\",\\n        \"date\": \"2020-01-01\",\\n        \"iso_currency_code\": \"USD\",\\n        \"location\": {\\n            \"address\": null,\\n            \"city\": null,\\n            \"country\": null,\\n            \"lat\": null,\\n            \"lon\": null,\\n            \"postal_code\": null,\\n            \"region\": null,\\n            \"store_number\": null\\n        },\\n        \"name\": \"United Airlines\",\\n        \"payment_channel\": \"in store\",\\n        \"payment_meta\": {\\n            \"by_order_of\": null,\\n            \"payee\": null,\\n            \"payer\": null,\\n            \"payment_method\": null,\\n            \"payment_processor\": null,\\n            \"ppd_id\": null,\\n            \"reason\": null,\\n            \"reference_number\": null\\n        },\\n        \"pending\": false,\\n        \"pending_transaction_id\": null,\\n        \"transaction_id\": \"1ddLla14bXHo3ElvXjKBt8Aq6xrlJqc5qepz7\",\\n        \"transaction_type\": \"special\",\\n        \"unofficial_currency_code\": null\\n    },\\n    {\\n        \"account_id\": \"pNNl5e3P1oIk1Xb43BnQtjy11B9akpfLJVp4E\",\\n        \"account_owner\": null,\\n        \"amount\": 6.33,\\n        \"authorized_date\": null,\\n        \"category\": [\\n            \"Travel\",\\n            \"Car Service\",\\n            \"Ride Share\"\\n        ],\\n        \"category_id\": \"22006001\",\\n        \"date\": \"2019-12-30\",\\n        \"iso_currency_code\": \"USD\",\\n        \"location\": {\\n            \"address\": null,\\n            \"city\": null,\\n            \"country\": null,\\n            \"lat\": null,\\n            \"lon\": null,\\n            \"postal_code\": null,\\n            \"region\": null,\\n            \"store_number\": null\\n        },\\n        \"name\": \"Uber 072515 SF**POOL**\",\\n        \"payment_channel\": \"online\",\\n        \"payment_meta\": {\\n            \"by_order_of\": null,\\n            \"payee\": null,\\n            \"payer\": null,\\n            \"payment_method\": null,\\n            \"payment_processor\": null,\\n            \"ppd_id\": null,\\n            \"reason\": null,\\n            \"reference_number\": null\\n        },\\n        \"pending\": false,\\n        \"pending_transaction_id\": null,\\n        \"transaction_id\": \"777LpeEa6ziAzD5R76aGcMaEXWx5lETg8ndZ9\",\\n        \"transaction_type\": \"special\",\\n        \"unofficial_currency_code\": null\\n    },\\n    {\\n        \"account_id\": \"8eevpQkDlBSrB1ZMGyjmuabQQNlVmrcwZLWAg\",\\n        \"account_owner\": null,\\n        \"amount\": 500,\\n        \"authorized_date\": null,\\n        \"category\": [\\n            \"Food and Drink\",\\n            \"Restaurants\"\\n        ],\\n        \"category_id\": \"13005000\",\\n        \"date\": \"2019-12-27\",\\n        \"iso_currency_code\": \"USD\",\\n        \"location\": {\\n            \"address\": null,\\n            \"city\": null,\\n            \"country\": null,\\n            \"lat\": null,\\n            \"lon\": null,\\n            \"postal_code\": null,\\n            \"region\": null,\\n            \"store_number\": null\\n        },\\n        \"name\": \"Tectra Inc\",\\n        \"payment_channel\": \"in store\",\\n        \"payment_meta\": {\\n            \"by_order_of\": null,\\n            \"payee\": null,\\n            \"payer\": null,\\n            \"payment_method\": null,\\n            \"payment_processor\": null,\\n            \"ppd_id\": null,\\n            \"reason\": null,\\n            \"reference_number\": null\\n        },\\n        \"pending\": false,\\n        \"pending_transaction_id\": null,\\n        \"transaction_id\": \"LvvQV954LEUKazZwMp3PcXaVe1d3QVtPepk7M\",\\n        \"transaction_type\": \"place\",\\n        \"unofficial_currency_code\": null\\n    },\\n    {\\n        \"account_id\": \"8eevpQkDlBSrB1ZMGyjmuabQQNlVmrcwZLWAg\",\\n        \"account_owner\": null,\\n        \"amount\": 2078.5,\\n        \"authorized_date\": null,\\n        \"category\": [\\n            \"Payment\"\\n        ],\\n        \"category_id\": \"16000000\",\\n        \"date\": \"2019-12-26\",\\n        \"iso_currency_code\": \"USD\",\\n        \"location\": {\\n            \"address\": null,\\n            \"city\": null,\\n            \"country\": null,\\n            \"lat\": null,\\n            \"lon\": null,\\n            \"postal_code\": null,\\n            \"region\": null,\\n            \"store_number\": null\\n        },\\n        \"name\": \"AUTOMATIC PAYMENT - THANK\",\\n        \"payment_channel\": \"other\",\\n        \"payment_meta\": {\\n            \"by_order_of\": null,\\n            \"payee\": null,\\n            \"payer\": null,\\n            \"payment_method\": null,\\n            \"payment_processor\": null,\\n            \"ppd_id\": null,\\n            \"reason\": null,\\n            \"reference_number\": null\\n        },\\n        \"pending\": false,\\n        \"pending_transaction_id\": null,\\n        \"transaction_id\": \"gKKNb35P4jcNz7Gd4DlpUwGD3PmjxDSgLnEoZ\",\\n        \"transaction_type\": \"special\",\\n        \"unofficial_currency_code\": null\\n    },\\n    {\\n        \"account_id\": \"8eevpQkDlBSrB1ZMGyjmuabQQNlVmrcwZLWAg\",\\n        \"account_owner\": null,\\n        \"amount\": 500,\\n        \"authorized_date\": null,\\n        \"category\": [\\n            \"Food and Drink\",\\n            \"Restaurants\"\\n        ],\\n        \"category_id\": \"13005000\",\\n        \"date\": \"2019-12-26\",\\n        \"iso_currency_code\": \"USD\",\\n        \"location\": {\\n            \"address\": null,\\n            \"city\": null,\\n            \"country\": null,\\n            \"lat\": null,\\n            \"lon\": null,\\n            \"postal_code\": null,\\n            \"region\": null,\\n            \"store_number\": null\\n        },\\n        \"name\": \"KFC\",\\n        \"payment_channel\": \"in store\",\\n        \"payment_meta\": {\\n            \"by_order_of\": null,\\n            \"payee\": null,\\n            \"payer\": null,\\n            \"payment_method\": null,\\n            \"payment_processor\": null,\\n            \"ppd_id\": null,\\n            \"reason\": null,\\n            \"reference_number\": null\\n        },\\n        \"pending\": false,\\n        \"pending_transaction_id\": null,\\n        \"transaction_id\": \"o44W57BJMpHkygL4BAdVtKjaP5NveaTRp7ojP\",\\n        \"transaction_type\": \"place\",\\n        \"unofficial_currency_code\": null\\n    },\\n    {\\n        \"account_id\": \"8eevpQkDlBSrB1ZMGyjmuabQQNlVmrcwZLWAg\",\\n        \"account_owner\": null,\\n        \"amount\": 500,\\n        \"authorized_date\": null,\\n        \"category\": [\\n            \"Shops\",\\n            \"Sporting Goods\"\\n        ],\\n        \"category_id\": \"19046000\",\\n        \"date\": \"2019-12-26\",\\n        \"iso_currency_code\": \"USD\",\\n        \"location\": {\\n            \"address\": null,\\n            \"city\": null,\\n            \"country\": null,\\n            \"lat\": null,\\n            \"lon\": null,\\n            \"postal_code\": null,\\n            \"region\": null,\\n            \"store_number\": null\\n        },\\n        \"name\": \"Madison Bicycle Shop\",\\n        \"payment_channel\": \"in store\",\\n        \"payment_meta\": {\\n            \"by_order_of\": null,\\n            \"payee\": null,\\n            \"payer\": null,\\n            \"payment_method\": null,\\n            \"payment_processor\": null,\\n            \"ppd_id\": null,\\n            \"reason\": null,\\n            \"reference_number\": null\\n        },\\n        \"pending\": false,\\n        \"pending_transaction_id\": null,\\n        \"transaction_id\": \"pNNl5e3P1oIk1Xb43BnQtjy1q65vM1iLJVpwd\",\\n        \"transaction_type\": \"place\",\\n        \"unofficial_currency_code\": null\\n    },\\n    {\\n        \"account_id\": \"o44W57BJMpHkygL4BAdVtKjaaVJxAXSRp7oaK\",\\n        \"account_owner\": null,\\n        \"amount\": 25,\\n        \"authorized_date\": null,\\n        \"category\": [\\n            \"Payment\",\\n            \"Credit Card\"\\n        ],\\n        \"category_id\": \"16001000\",\\n        \"date\": \"2019-12-17\",\\n        \"iso_currency_code\": \"USD\",\\n        \"location\": {\\n            \"address\": null,\\n            \"city\": null,\\n            \"country\": null,\\n            \"lat\": null,\\n            \"lon\": null,\\n            \"postal_code\": null,\\n            \"region\": null,\\n            \"store_number\": null\\n        },\\n        \"name\": \"CREDIT CARD 3333 PAYMENT *//\",\\n        \"payment_channel\": \"other\",\\n        \"payment_meta\": {\\n            \"by_order_of\": null,\\n            \"payee\": null,\\n            \"payer\": null,\\n            \"payment_method\": null,\\n            \"payment_processor\": null,\\n            \"ppd_id\": null,\\n            \"reason\": null,\\n            \"reference_number\": null\\n        },\\n        \"pending\": false,\\n        \"pending_transaction_id\": null,\\n        \"transaction_id\": \"344LKNpGylH1zAGn46lyCrJmePxkl4uq1DZma\",\\n        \"transaction_type\": \"special\",\\n        \"unofficial_currency_code\": null\\n    },\\n    {\\n        \"account_id\": \"pNNl5e3P1oIk1Xb43BnQtjy11B9akpfLJVp4E\",\\n        \"account_owner\": null,\\n        \"amount\": 5.4,\\n        \"authorized_date\": null,\\n        \"category\": [\\n            \"Travel\",\\n            \"Car Service\",\\n            \"Ride Share\"\\n        ],\\n        \"category_id\": \"22006001\",\\n        \"date\": \"2019-12-17\",\\n        \"iso_currency_code\": \"USD\",\\n        \"location\": {\\n            \"address\": null,\\n            \"city\": null,\\n            \"country\": null,\\n            \"lat\": null,\\n            \"lon\": null,\\n            \"postal_code\": null,\\n            \"region\": null,\\n            \"store_number\": null\\n        },\\n        \"name\": \"Uber 063015 SF**POOL**\",\\n        \"payment_channel\": \"online\",\\n        \"payment_meta\": {\\n            \"by_order_of\": null,\\n            \"payee\": null,\\n            \"payer\": null,\\n            \"payment_method\": null,\\n            \"payment_processor\": null,\\n            \"ppd_id\": null,\\n            \"reason\": null,\\n            \"reference_number\": null\\n        },\\n        \"pending\": false,\\n        \"pending_transaction_id\": null,\\n        \"transaction_id\": \"Kvvynm5418Uqbgv7yA8PCp6A7P3Ea8cVBxRRk\",\\n        \"transaction_type\": \"special\",\\n        \"unofficial_currency_code\": null\\n    },\\n    {\\n        \"account_id\": \"EGGn965wjMUGE1JLNwdzuXa66QVApJtXgk4w6\",\\n        \"account_owner\": null,\\n        \"amount\": 5850,\\n        \"authorized_date\": null,\\n        \"category\": [\\n            \"Transfer\",\\n            \"Debit\"\\n        ],\\n        \"category_id\": \"21006000\",\\n        \"date\": \"2019-12-16\",\\n        \"iso_currency_code\": \"USD\",\\n        \"location\": {\\n            \"address\": null,\\n            \"city\": null,\\n            \"country\": null,\\n            \"lat\": null,\\n            \"lon\": null,\\n            \"postal_code\": null,\\n            \"region\": null,\\n            \"store_number\": null\\n        },\\n        \"name\": \"ACH Electronic CreditGUSTO PAY 123456\",\\n        \"payment_channel\": \"other\",\\n        \"payment_meta\": {\\n            \"by_order_of\": null,\\n            \"payee\": null,\\n            \"payer\": null,\\n            \"payment_method\": \"ACH\",\\n            \"payment_processor\": null,\\n            \"ppd_id\": null,\\n            \"reason\": null,\\n            \"reference_number\": null\\n        },\\n        \"pending\": false,\\n        \"pending_transaction_id\": null,\\n        \"transaction_id\": \"VvvwW95abRUP4Vw6DoJKtpK1zReGKEfW8B9ob\",\\n        \"transaction_type\": \"special\",\\n        \"unofficial_currency_code\": null\\n    },\\n    {\\n        \"account_id\": \"gKKNb35P4jcNz7Gd4DlpUwGDDQE7JAFgLnEbr\",\\n        \"account_owner\": null,\\n        \"amount\": 1000,\\n        \"authorized_date\": null,\\n        \"category\": [\\n            \"Transfer\",\\n            \"Deposit\"\\n        ],\\n        \"category_id\": \"21007000\",\\n        \"date\": \"2019-12-16\",\\n        \"iso_currency_code\": \"USD\",\\n        \"location\": {\\n            \"address\": null,\\n            \"city\": null,\\n            \"country\": null,\\n            \"lat\": null,\\n            \"lon\": null,\\n            \"postal_code\": null,\\n            \"region\": null,\\n            \"store_number\": null\\n        },\\n        \"name\": \"CD DEPOSIT .INITIAL.\",\\n        \"payment_channel\": \"other\",\\n        \"payment_meta\": {\\n            \"by_order_of\": null,\\n            \"payee\": null,\\n            \"payer\": null,\\n            \"payment_method\": null,\\n            \"payment_processor\": null,\\n            \"ppd_id\": null,\\n            \"reason\": null,\\n            \"reference_number\": null\\n        },\\n        \"pending\": false,\\n        \"pending_transaction_id\": null,\\n        \"transaction_id\": \"ellyvz5PdNTP6ZnAd7x1tPrzADnlG3FLj4raR\",\\n        \"transaction_type\": \"special\",\\n        \"unofficial_currency_code\": null\\n    },\\n    {\\n        \"account_id\": \"8eevpQkDlBSrB1ZMGyjmuabQQNlVmrcwZLWAg\",\\n        \"account_owner\": null,\\n        \"amount\": 78.5,\\n        \"authorized_date\": null,\\n        \"category\": [\\n            \"Recreation\",\\n            \"Gyms and Fitness Centers\"\\n        ],\\n        \"category_id\": \"17018000\",\\n        \"date\": \"2019-12-15\",\\n        \"iso_currency_code\": \"USD\",\\n        \"location\": {\\n            \"address\": null,\\n            \"city\": null,\\n            \"country\": null,\\n            \"lat\": null,\\n            \"lon\": null,\\n            \"postal_code\": null,\\n            \"region\": null,\\n            \"store_number\": null\\n        },\\n        \"name\": \"Touchstone Climbing\",\\n        \"payment_channel\": \"in store\",\\n        \"payment_meta\": {\\n            \"by_order_of\": null,\\n            \"payee\": null,\\n            \"payer\": null,\\n            \"payment_method\": null,\\n            \"payment_processor\": null,\\n            \"ppd_id\": null,\\n            \"reason\": null,\\n            \"reference_number\": null\\n        },\\n        \"pending\": false,\\n        \"pending_transaction_id\": null,\\n        \"transaction_id\": \"ellyvz5PdNTP6ZnAd7x1tPrzKeZGrBuLj4rJp\",\\n        \"transaction_type\": \"place\",\\n        \"unofficial_currency_code\": null\\n    },\\n    {\\n        \"account_id\": \"pNNl5e3P1oIk1Xb43BnQtjy11B9akpfLJVp4E\",\\n        \"account_owner\": null,\\n        \"amount\": -500,\\n        \"authorized_date\": null,\\n        \"category\": [\\n            \"Travel\",\\n            \"Airlines and Aviation Services\"\\n        ],\\n        \"category_id\": \"22001000\",\\n        \"date\": \"2019-12-15\",\\n        \"iso_currency_code\": \"USD\",\\n        \"location\": {\\n            \"address\": null,\\n            \"city\": null,\\n            \"country\": null,\\n            \"lat\": null,\\n            \"lon\": null,\\n            \"postal_code\": null,\\n            \"region\": null,\\n            \"store_number\": null\\n        },\\n        \"name\": \"United Airlines\",\\n        \"payment_channel\": \"other\",\\n        \"payment_meta\": {\\n            \"by_order_of\": null,\\n            \"payee\": null,\\n            \"payer\": null,\\n            \"payment_method\": null,\\n            \"payment_processor\": null,\\n            \"ppd_id\": null,\\n            \"reason\": null,\\n            \"reference_number\": null\\n        },\\n        \"pending\": false,\\n        \"pending_transaction_id\": null,\\n        \"transaction_id\": \"qPPqRQxbLgIoD5Xjx3LQtPEaoJZ5VzFdDzggl\",\\n        \"transaction_type\": \"special\",\\n        \"unofficial_currency_code\": null\\n    },\\n    {\\n        \"account_id\": \"pNNl5e3P1oIk1Xb43BnQtjy11B9akpfLJVp4E\",\\n        \"account_owner\": null,\\n        \"amount\": 12,\\n        \"authorized_date\": null,\\n        \"category\": [\\n            \"Food and Drink\",\\n            \"Restaurants\"\\n        ],\\n        \"category_id\": \"13005000\",\\n        \"date\": \"2019-12-14\",\\n        \"iso_currency_code\": \"USD\",\\n        \"location\": {\\n            \"address\": null,\\n            \"city\": null,\\n            \"country\": null,\\n            \"lat\": null,\\n            \"lon\": null,\\n            \"postal_code\": null,\\n            \"region\": null,\\n            \"store_number\": \"3322\"\\n        },\\n        \"name\": \"McDonald\\'s\",\\n        \"payment_channel\": \"in store\",\\n        \"payment_meta\": {\\n            \"by_order_of\": null,\\n            \"payee\": null,\\n            \"payer\": null,\\n            \"payment_method\": null,\\n            \"payment_processor\": null,\\n            \"ppd_id\": null,\\n            \"reason\": null,\\n            \"reference_number\": null\\n        },\\n        \"pending\": false,\\n        \"pending_transaction_id\": null,\\n        \"transaction_id\": \"k33py4qx7ZiMDPGLql5rFD9jqJz3wGcWVlLLo\",\\n        \"transaction_type\": \"place\",\\n        \"unofficial_currency_code\": null\\n    },\\n    {\\n        \"account_id\": \"pNNl5e3P1oIk1Xb43BnQtjy11B9akpfLJVp4E\",\\n        \"account_owner\": null,\\n        \"amount\": 4.33,\\n        \"authorized_date\": null,\\n        \"category\": [\\n            \"Food and Drink\",\\n            \"Restaurants\",\\n            \"Coffee Shop\"\\n        ],\\n        \"category_id\": \"13005043\",\\n        \"date\": \"2019-12-14\",\\n        \"iso_currency_code\": \"USD\",\\n        \"location\": {\\n            \"address\": null,\\n            \"city\": null,\\n            \"country\": null,\\n            \"lat\": null,\\n            \"lon\": null,\\n            \"postal_code\": null,\\n            \"region\": null,\\n            \"store_number\": null\\n        },\\n        \"name\": \"Starbucks\",\\n        \"payment_channel\": \"in store\",\\n        \"payment_meta\": {\\n            \"by_order_of\": null,\\n            \"payee\": null,\\n            \"payer\": null,\\n            \"payment_method\": null,\\n            \"payment_processor\": null,\\n            \"ppd_id\": null,\\n            \"reason\": null,\\n            \"reference_number\": null\\n        },\\n        \"pending\": false,\\n        \"pending_transaction_id\": null,\\n        \"transaction_id\": \"lxxJZNK9eMTDwaxRKkLzFg4ZAxjNw5hZXVppm\",\\n        \"transaction_type\": \"place\",\\n        \"unofficial_currency_code\": null\\n    },\\n    {\\n        \"account_id\": \"pNNl5e3P1oIk1Xb43BnQtjy11B9akpfLJVp4E\",\\n        \"account_owner\": null,\\n        \"amount\": 89.4,\\n        \"authorized_date\": null,\\n        \"category\": [\\n            \"Food and Drink\",\\n            \"Restaurants\"\\n        ],\\n        \"category_id\": \"13005000\",\\n        \"date\": \"2019-12-13\",\\n        \"iso_currency_code\": \"USD\",\\n        \"location\": {\\n            \"address\": null,\\n            \"city\": null,\\n            \"country\": null,\\n            \"lat\": null,\\n            \"lon\": null,\\n            \"postal_code\": null,\\n            \"region\": null,\\n            \"store_number\": null\\n        },\\n        \"name\": \"SparkFun\",\\n        \"payment_channel\": \"in store\",\\n        \"payment_meta\": {\\n            \"by_order_of\": null,\\n            \"payee\": null,\\n            \"payer\": null,\\n            \"payment_method\": null,\\n            \"payment_processor\": null,\\n            \"ppd_id\": null,\\n            \"reason\": null,\\n            \"reference_number\": null\\n        },\\n        \"pending\": false,\\n        \"pending_transaction_id\": null,\\n        \"transaction_id\": \"JvvQEm54MgUljK819gvVUl5grVNQZjidrDBBJ\",\\n        \"transaction_type\": \"place\",\\n        \"unofficial_currency_code\": null\\n    },\\n    {\\n        \"account_id\": \"o44W57BJMpHkygL4BAdVtKjaaVJxAXSRp7oaK\",\\n        \"account_owner\": null,\\n        \"amount\": -4.22,\\n        \"authorized_date\": null,\\n        \"category\": [\\n            \"Transfer\",\\n            \"Credit\"\\n        ],\\n        \"category_id\": \"21005000\",\\n        \"date\": \"2019-12-12\",\\n        \"iso_currency_code\": \"USD\",\\n        \"location\": {\\n            \"address\": null,\\n            \"city\": null,\\n            \"country\": null,\\n            \"lat\": null,\\n            \"lon\": null,\\n            \"postal_code\": null,\\n            \"region\": null,\\n            \"store_number\": null\\n        },\\n        \"name\": \"INTRST PYMNT\",\\n        \"payment_channel\": \"other\",\\n        \"payment_meta\": {\\n            \"by_order_of\": null,\\n            \"payee\": null,\\n            \"payer\": null,\\n            \"payment_method\": null,\\n            \"payment_processor\": null,\\n            \"ppd_id\": null,\\n            \"reason\": null,\\n            \"reference_number\": null\\n        },\\n        \"pending\": false,\\n        \"pending_transaction_id\": null,\\n        \"transaction_id\": \"BEEvRm6D4efjvnA1yrklHybVvG3gXJCwKb4zb\",\\n        \"transaction_type\": \"special\",\\n        \"unofficial_currency_code\": null\\n    },\\n    {\\n        \"account_id\": \"8eevpQkDlBSrB1ZMGyjmuabQQNlVmrcwZLWAg\",\\n        \"account_owner\": null,\\n        \"amount\": 500,\\n        \"authorized_date\": null,\\n        \"category\": [\\n            \"Travel\",\\n            \"Airlines and Aviation Services\"\\n        ],\\n        \"category_id\": \"22001000\",\\n        \"date\": \"2019-12-02\",\\n        \"iso_currency_code\": \"USD\",\\n        \"location\": {\\n            \"address\": null,\\n            \"city\": null,\\n            \"country\": null,\\n            \"lat\": null,\\n            \"lon\": null,\\n            \"postal_code\": null,\\n            \"region\": null,\\n            \"store_number\": null\\n        },\\n        \"name\": \"United Airlines\",\\n        \"payment_channel\": \"in store\",\\n        \"payment_meta\": {\\n            \"by_order_of\": null,\\n            \"payee\": null,\\n            \"payer\": null,\\n            \"payment_method\": null,\\n            \"payment_processor\": null,\\n            \"ppd_id\": null,\\n            \"reason\": null,\\n            \"reference_number\": null\\n        },\\n        \"pending\": false,\\n        \"pending_transaction_id\": null,\\n        \"transaction_id\": \"777LpeEa6ziAzD5R76aGcMaj7EywaDig9od6R\",\\n        \"transaction_type\": \"special\",\\n        \"unofficial_currency_code\": null\\n    },\\n    {\\n        \"account_id\": \"pNNl5e3P1oIk1Xb43BnQtjy11B9akpfLJVp4E\",\\n        \"account_owner\": null,\\n        \"amount\": 6.33,\\n        \"authorized_date\": null,\\n        \"category\": [\\n            \"Travel\",\\n            \"Car Service\",\\n            \"Ride Share\"\\n        ],\\n        \"category_id\": \"22006001\",\\n        \"date\": \"2019-11-30\",\\n        \"iso_currency_code\": \"USD\",\\n        \"location\": {\\n            \"address\": null,\\n            \"city\": null,\\n            \"country\": null,\\n            \"lat\": null,\\n            \"lon\": null,\\n            \"postal_code\": null,\\n            \"region\": null,\\n            \"store_number\": null\\n        },\\n        \"name\": \"Uber 072515 SF**POOL**\",\\n        \"payment_channel\": \"online\",\\n        \"payment_meta\": {\\n            \"by_order_of\": null,\\n            \"payee\": null,\\n            \"payer\": null,\\n            \"payment_method\": null,\\n            \"payment_processor\": null,\\n            \"ppd_id\": null,\\n            \"reason\": null,\\n            \"reference_number\": null\\n        },\\n        \"pending\": false,\\n        \"pending_transaction_id\": null,\\n        \"transaction_id\": \"5PPJojg4vKIA6DJXPWoac6A7eayjKdcZP1557\",\\n        \"transaction_type\": \"special\",\\n        \"unofficial_currency_code\": null\\n    },\\n    {\\n        \"account_id\": \"8eevpQkDlBSrB1ZMGyjmuabQQNlVmrcwZLWAg\",\\n        \"account_owner\": null,\\n        \"amount\": 500,\\n        \"authorized_date\": null,\\n        \"category\": [\\n            \"Food and Drink\",\\n            \"Restaurants\"\\n        ],\\n        \"category_id\": \"13005000\",\\n        \"date\": \"2019-11-27\",\\n        \"iso_currency_code\": \"USD\",\\n        \"location\": {\\n            \"address\": null,\\n            \"city\": null,\\n            \"country\": null,\\n            \"lat\": null,\\n            \"lon\": null,\\n            \"postal_code\": null,\\n            \"region\": null,\\n            \"store_number\": null\\n        },\\n        \"name\": \"Tectra Inc\",\\n        \"payment_channel\": \"in store\",\\n        \"payment_meta\": {\\n            \"by_order_of\": null,\\n            \"payee\": null,\\n            \"payer\": null,\\n            \"payment_method\": null,\\n            \"payment_processor\": null,\\n            \"ppd_id\": null,\\n            \"reason\": null,\\n            \"reference_number\": null\\n        },\\n        \"pending\": false,\\n        \"pending_transaction_id\": null,\\n        \"transaction_id\": \"jBBkbalJjQI7rwdNDRjVt6GQw1DMGpu1XV6xJ\",\\n        \"transaction_type\": \"place\",\\n        \"unofficial_currency_code\": null\\n    },\\n    {\\n        \"account_id\": \"8eevpQkDlBSrB1ZMGyjmuabQQNlVmrcwZLWAg\",\\n        \"account_owner\": null,\\n        \"amount\": 2078.5,\\n        \"authorized_date\": null,\\n        \"category\": [\\n            \"Payment\"\\n        ],\\n        \"category_id\": \"16000000\",\\n        \"date\": \"2019-11-26\",\\n        \"iso_currency_code\": \"USD\",\\n        \"location\": {\\n            \"address\": null,\\n            \"city\": null,\\n            \"country\": null,\\n            \"lat\": null,\\n            \"lon\": null,\\n            \"postal_code\": null,\\n            \"region\": null,\\n            \"store_number\": null\\n        },\\n        \"name\": \"AUTOMATIC PAYMENT - THANK\",\\n        \"payment_channel\": \"other\",\\n        \"payment_meta\": {\\n            \"by_order_of\": null,\\n            \"payee\": null,\\n            \"payer\": null,\\n            \"payment_method\": null,\\n            \"payment_processor\": null,\\n            \"ppd_id\": null,\\n            \"reason\": null,\\n            \"reference_number\": null\\n        },\\n        \"pending\": false,\\n        \"pending_transaction_id\": null,\\n        \"transaction_id\": \"Pvvjbw5Q8nU31WeXMLBNf1v7NMgBveh7MPoJ3\",\\n        \"transaction_type\": \"special\",\\n        \"unofficial_currency_code\": null\\n    },\\n    {\\n        \"account_id\": \"8eevpQkDlBSrB1ZMGyjmuabQQNlVmrcwZLWAg\",\\n        \"account_owner\": null,\\n        \"amount\": 500,\\n        \"authorized_date\": null,\\n        \"category\": [\\n            \"Food and Drink\",\\n            \"Restaurants\"\\n        ],\\n        \"category_id\": \"13005000\",\\n        \"date\": \"2019-11-26\",\\n        \"iso_currency_code\": \"USD\",\\n        \"location\": {\\n            \"address\": null,\\n            \"city\": null,\\n            \"country\": null,\\n            \"lat\": null,\\n            \"lon\": null,\\n            \"postal_code\": null,\\n            \"region\": null,\\n            \"store_number\": null\\n        },\\n        \"name\": \"KFC\",\\n        \"payment_channel\": \"in store\",\\n        \"payment_meta\": {\\n            \"by_order_of\": null,\\n            \"payee\": null,\\n            \"payer\": null,\\n            \"payment_method\": null,\\n            \"payment_processor\": null,\\n            \"ppd_id\": null,\\n            \"reason\": null,\\n            \"reference_number\": null\\n        },\\n        \"pending\": false,\\n        \"pending_transaction_id\": null,\\n        \"transaction_id\": \"NvvMR957okUzGynVP8vNHekPyWwMk9CWD4yxR\",\\n        \"transaction_type\": \"place\",\\n        \"unofficial_currency_code\": null\\n    },\\n    {\\n        \"account_id\": \"8eevpQkDlBSrB1ZMGyjmuabQQNlVmrcwZLWAg\",\\n        \"account_owner\": null,\\n        \"amount\": 500,\\n        \"authorized_date\": null,\\n        \"category\": [\\n            \"Shops\",\\n            \"Sporting Goods\"\\n        ],\\n        \"category_id\": \"19046000\",\\n        \"date\": \"2019-11-26\",\\n        \"iso_currency_code\": \"USD\",\\n        \"location\": {\\n            \"address\": null,\\n            \"city\": null,\\n            \"country\": null,\\n            \"lat\": null,\\n            \"lon\": null,\\n            \"postal_code\": null,\\n            \"region\": null,\\n            \"store_number\": null\\n        },\\n        \"name\": \"Madison Bicycle Shop\",\\n        \"payment_channel\": \"in store\",\\n        \"payment_meta\": {\\n            \"by_order_of\": null,\\n            \"payee\": null,\\n            \"payer\": null,\\n            \"payment_method\": null,\\n            \"payment_processor\": null,\\n            \"ppd_id\": null,\\n            \"reason\": null,\\n            \"reference_number\": null\\n        },\\n        \"pending\": false,\\n        \"pending_transaction_id\": null,\\n        \"transaction_id\": \"4NNprPoa9qIoeDG7NyBMtQEdMoGbEaCd1QJkj\",\\n        \"transaction_type\": \"place\",\\n        \"unofficial_currency_code\": null\\n    },\\n    {\\n        \"account_id\": \"o44W57BJMpHkygL4BAdVtKjaaVJxAXSRp7oaK\",\\n        \"account_owner\": null,\\n        \"amount\": 25,\\n        \"authorized_date\": null,\\n        \"category\": [\\n            \"Payment\",\\n            \"Credit Card\"\\n        ],\\n        \"category_id\": \"16001000\",\\n        \"date\": \"2019-11-17\",\\n        \"iso_currency_code\": \"USD\",\\n        \"location\": {\\n            \"address\": null,\\n            \"city\": null,\\n            \"country\": null,\\n            \"lat\": null,\\n            \"lon\": null,\\n            \"postal_code\": null,\\n            \"region\": null,\\n            \"store_number\": null\\n        },\\n        \"name\": \"CREDIT CARD 3333 PAYMENT *//\",\\n        \"payment_channel\": \"other\",\\n        \"payment_meta\": {\\n            \"by_order_of\": null,\\n            \"payee\": null,\\n            \"payer\": null,\\n            \"payment_method\": null,\\n            \"payment_processor\": null,\\n            \"ppd_id\": null,\\n            \"reason\": null,\\n            \"reference_number\": null\\n        },\\n        \"pending\": false,\\n        \"pending_transaction_id\": null,\\n        \"transaction_id\": \"zppAmbQakysyjezgxm1RtQ9WrgxKP5tov5l3b\",\\n        \"transaction_type\": \"special\",\\n        \"unofficial_currency_code\": null\\n    },\\n    {\\n        \"account_id\": \"pNNl5e3P1oIk1Xb43BnQtjy11B9akpfLJVp4E\",\\n        \"account_owner\": null,\\n        \"amount\": 5.4,\\n        \"authorized_date\": null,\\n        \"category\": [\\n            \"Travel\",\\n            \"Car Service\",\\n            \"Ride Share\"\\n        ],\\n        \"category_id\": \"22006001\",\\n        \"date\": \"2019-11-17\",\\n        \"iso_currency_code\": \"USD\",\\n        \"location\": {\\n            \"address\": null,\\n            \"city\": null,\\n            \"country\": null,\\n            \"lat\": null,\\n            \"lon\": null,\\n            \"postal_code\": null,\\n            \"region\": null,\\n            \"store_number\": null\\n        },\\n        \"name\": \"Uber 063015 SF**POOL**\",\\n        \"payment_channel\": \"online\",\\n        \"payment_meta\": {\\n            \"by_order_of\": null,\\n            \"payee\": null,\\n            \"payer\": null,\\n            \"payment_method\": null,\\n            \"payment_processor\": null,\\n            \"ppd_id\": null,\\n            \"reason\": null,\\n            \"reference_number\": null\\n        },\\n        \"pending\": false,\\n        \"pending_transaction_id\": null,\\n        \"transaction_id\": \"wMMxKojbWnsydJxb5DPWtkpBx1WaDbtr7bPPj\",\\n        \"transaction_type\": \"special\",\\n        \"unofficial_currency_code\": null\\n    },\\n    {\\n        \"account_id\": \"EGGn965wjMUGE1JLNwdzuXa66QVApJtXgk4w6\",\\n        \"account_owner\": null,\\n        \"amount\": 5850,\\n        \"authorized_date\": null,\\n        \"category\": [\\n            \"Transfer\",\\n            \"Debit\"\\n        ],\\n        \"category_id\": \"21006000\",\\n        \"date\": \"2019-11-16\",\\n        \"iso_currency_code\": \"USD\",\\n        \"location\": {\\n            \"address\": null,\\n            \"city\": null,\\n            \"country\": null,\\n            \"lat\": null,\\n            \"lon\": null,\\n            \"postal_code\": null,\\n            \"region\": null,\\n            \"store_number\": null\\n        },\\n        \"name\": \"ACH Electronic CreditGUSTO PAY 123456\",\\n        \"payment_channel\": \"other\",\\n        \"payment_meta\": {\\n            \"by_order_of\": null,\\n            \"payee\": null,\\n            \"payer\": null,\\n            \"payment_method\": \"ACH\",\\n            \"payment_processor\": null,\\n            \"ppd_id\": null,\\n            \"reason\": null,\\n            \"reference_number\": null\\n        },\\n        \"pending\": false,\\n        \"pending_transaction_id\": null,\\n        \"transaction_id\": \"DAA48v51PZHbpzX7Krk8U4LJ18MWLbfvP537l\",\\n        \"transaction_type\": \"special\",\\n        \"unofficial_currency_code\": null\\n    },\\n    {\\n        \"account_id\": \"gKKNb35P4jcNz7Gd4DlpUwGDDQE7JAFgLnEbr\",\\n        \"account_owner\": null,\\n        \"amount\": 1000,\\n        \"authorized_date\": null,\\n        \"category\": [\\n            \"Transfer\",\\n            \"Deposit\"\\n        ],\\n        \"category_id\": \"21007000\",\\n        \"date\": \"2019-11-16\",\\n        \"iso_currency_code\": \"USD\",\\n        \"location\": {\\n            \"address\": null,\\n            \"city\": null,\\n            \"country\": null,\\n            \"lat\": null,\\n            \"lon\": null,\\n            \"postal_code\": null,\\n            \"region\": null,\\n            \"store_number\": null\\n        },\\n        \"name\": \"CD DEPOSIT .INITIAL.\",\\n        \"payment_channel\": \"other\",\\n        \"payment_meta\": {\\n            \"by_order_of\": null,\\n            \"payee\": null,\\n            \"payer\": null,\\n            \"payment_method\": null,\\n            \"payment_processor\": null,\\n            \"ppd_id\": null,\\n            \"reason\": null,\\n            \"reference_number\": null\\n        },\\n        \"pending\": false,\\n        \"pending_transaction_id\": null,\\n        \"transaction_id\": \"777LpeEa6ziAzD5R76aGcMajNRbXwrHg9od8V\",\\n        \"transaction_type\": \"special\",\\n        \"unofficial_currency_code\": null\\n    },\\n    {\\n        \"account_id\": \"8eevpQkDlBSrB1ZMGyjmuabQQNlVmrcwZLWAg\",\\n        \"account_owner\": null,\\n        \"amount\": 78.5,\\n        \"authorized_date\": null,\\n        \"category\": [\\n            \"Recreation\",\\n            \"Gyms and Fitness Centers\"\\n        ],\\n        \"category_id\": \"17018000\",\\n        \"date\": \"2019-11-15\",\\n        \"iso_currency_code\": \"USD\",\\n        \"location\": {\\n            \"address\": null,\\n            \"city\": null,\\n            \"country\": null,\\n            \"lat\": null,\\n            \"lon\": null,\\n            \"postal_code\": null,\\n            \"region\": null,\\n            \"store_number\": null\\n        },\\n        \"name\": \"Touchstone Climbing\",\\n        \"payment_channel\": \"in store\",\\n        \"payment_meta\": {\\n            \"by_order_of\": null,\\n            \"payee\": null,\\n            \"payer\": null,\\n            \"payment_method\": null,\\n            \"payment_processor\": null,\\n            \"ppd_id\": null,\\n            \"reason\": null,\\n            \"reference_number\": null\\n        },\\n        \"pending\": false,\\n        \"pending_transaction_id\": null,\\n        \"transaction_id\": \"avvPel5BzxUdP6lozRByh7djNgmAdyf7WBZPj\",\\n        \"transaction_type\": \"place\",\\n        \"unofficial_currency_code\": null\\n    },\\n    {\\n        \"account_id\": \"pNNl5e3P1oIk1Xb43BnQtjy11B9akpfLJVp4E\",\\n        \"account_owner\": null,\\n        \"amount\": -500,\\n        \"authorized_date\": null,\\n        \"category\": [\\n            \"Travel\",\\n            \"Airlines and Aviation Services\"\\n        ],\\n        \"category_id\": \"22001000\",\\n        \"date\": \"2019-11-15\",\\n        \"iso_currency_code\": \"USD\",\\n        \"location\": {\\n            \"address\": null,\\n            \"city\": null,\\n            \"country\": null,\\n            \"lat\": null,\\n            \"lon\": null,\\n            \"postal_code\": null,\\n            \"region\": null,\\n            \"store_number\": null\\n        },\\n        \"name\": \"United Airlines\",\\n        \"payment_channel\": \"other\",\\n        \"payment_meta\": {\\n            \"by_order_of\": null,\\n            \"payee\": null,\\n            \"payer\": null,\\n            \"payment_method\": null,\\n            \"payment_processor\": null,\\n            \"ppd_id\": null,\\n            \"reason\": null,\\n            \"reference_number\": null\\n        },\\n        \"pending\": false,\\n        \"pending_transaction_id\": null,\\n        \"transaction_id\": \"VvvwW95abRUP4Vw6DoJKtpK1n6AqGkcW8B99X\",\\n        \"transaction_type\": \"special\",\\n        \"unofficial_currency_code\": null\\n    },\\n    {\\n        \"account_id\": \"pNNl5e3P1oIk1Xb43BnQtjy11B9akpfLJVp4E\",\\n        \"account_owner\": null,\\n        \"amount\": 12,\\n        \"authorized_date\": null,\\n        \"category\": [\\n            \"Food and Drink\",\\n            \"Restaurants\"\\n        ],\\n        \"category_id\": \"13005000\",\\n        \"date\": \"2019-11-14\",\\n        \"iso_currency_code\": \"USD\",\\n        \"location\": {\\n            \"address\": null,\\n            \"city\": null,\\n            \"country\": null,\\n            \"lat\": null,\\n            \"lon\": null,\\n            \"postal_code\": null,\\n            \"region\": null,\\n            \"store_number\": \"3322\"\\n        },\\n        \"name\": \"McDonald\\'s\",\\n        \"payment_channel\": \"in store\",\\n        \"payment_meta\": {\\n            \"by_order_of\": null,\\n            \"payee\": null,\\n            \"payer\": null,\\n            \"payment_method\": null,\\n            \"payment_processor\": null,\\n            \"ppd_id\": null,\\n            \"reason\": null,\\n            \"reference_number\": null\\n        },\\n        \"pending\": false,\\n        \"pending_transaction_id\": null,\\n        \"transaction_id\": \"XvvQ895gyXU76DVPMEeXtDvy4ml1PgcdWmbbG\",\\n        \"transaction_type\": \"place\",\\n        \"unofficial_currency_code\": null\\n    },\\n    {\\n        \"account_id\": \"pNNl5e3P1oIk1Xb43BnQtjy11B9akpfLJVp4E\",\\n        \"account_owner\": null,\\n        \"amount\": 4.33,\\n        \"authorized_date\": null,\\n        \"category\": [\\n            \"Food and Drink\",\\n            \"Restaurants\",\\n            \"Coffee Shop\"\\n        ],\\n        \"category_id\": \"13005043\",\\n        \"date\": \"2019-11-14\",\\n        \"iso_currency_code\": \"USD\",\\n        \"location\": {\\n            \"address\": null,\\n            \"city\": null,\\n            \"country\": null,\\n            \"lat\": null,\\n            \"lon\": null,\\n            \"postal_code\": null,\\n            \"region\": null,\\n            \"store_number\": null\\n        },\\n        \"name\": \"Starbucks\",\\n        \"payment_channel\": \"in store\",\\n        \"payment_meta\": {\\n            \"by_order_of\": null,\\n            \"payee\": null,\\n            \"payer\": null,\\n            \"payment_method\": null,\\n            \"payment_processor\": null,\\n            \"ppd_id\": null,\\n            \"reason\": null,\\n            \"reference_number\": null\\n        },\\n        \"pending\": false,\\n        \"pending_transaction_id\": null,\\n        \"transaction_id\": \"DAA48v51PZHbpzX7Krk8U4LJ6mpoWeivP533k\",\\n        \"transaction_type\": \"place\",\\n        \"unofficial_currency_code\": null\\n    },\\n    {\\n        \"account_id\": \"pNNl5e3P1oIk1Xb43BnQtjy11B9akpfLJVp4E\",\\n        \"account_owner\": null,\\n        \"amount\": 89.4,\\n        \"authorized_date\": null,\\n        \"category\": [\\n            \"Food and Drink\",\\n            \"Restaurants\"\\n        ],\\n        \"category_id\": \"13005000\",\\n        \"date\": \"2019-11-13\",\\n        \"iso_currency_code\": \"USD\",\\n        \"location\": {\\n            \"address\": null,\\n            \"city\": null,\\n            \"country\": null,\\n            \"lat\": null,\\n            \"lon\": null,\\n            \"postal_code\": null,\\n            \"region\": null,\\n            \"store_number\": null\\n        },\\n        \"name\": \"SparkFun\",\\n        \"payment_channel\": \"in store\",\\n        \"payment_meta\": {\\n            \"by_order_of\": null,\\n            \"payee\": null,\\n            \"payer\": null,\\n            \"payment_method\": null,\\n            \"payment_processor\": null,\\n            \"ppd_id\": null,\\n            \"reason\": null,\\n            \"reference_number\": null\\n        },\\n        \"pending\": false,\\n        \"pending_transaction_id\": null,\\n        \"transaction_id\": \"6jjLg78eRrsAwEXRQZVjcVw6xaJKD7tgoB88N\",\\n        \"transaction_type\": \"place\",\\n        \"unofficial_currency_code\": null\\n    },\\n    {\\n        \"account_id\": \"o44W57BJMpHkygL4BAdVtKjaaVJxAXSRp7oaK\",\\n        \"account_owner\": null,\\n        \"amount\": -4.22,\\n        \"authorized_date\": null,\\n        \"category\": [\\n            \"Transfer\",\\n            \"Credit\"\\n        ],\\n        \"category_id\": \"21005000\",\\n        \"date\": \"2019-11-12\",\\n        \"iso_currency_code\": \"USD\",\\n        \"location\": {\\n            \"address\": null,\\n            \"city\": null,\\n            \"country\": null,\\n            \"lat\": null,\\n            \"lon\": null,\\n            \"postal_code\": null,\\n            \"region\": null,\\n            \"store_number\": null\\n        },\\n        \"name\": \"INTRST PYMNT\",\\n        \"payment_channel\": \"other\",\\n        \"payment_meta\": {\\n            \"by_order_of\": null,\\n            \"payee\": null,\\n            \"payer\": null,\\n            \"payment_method\": null,\\n            \"payment_processor\": null,\\n            \"ppd_id\": null,\\n            \"reason\": null,\\n            \"reference_number\": null\\n        },\\n        \"pending\": false,\\n        \"pending_transaction_id\": null,\\n        \"transaction_id\": \"rkkKJZdgp8fZbRyXdAplIrQ517nXPeul5e7dJ\",\\n        \"transaction_type\": \"special\",\\n        \"unofficial_currency_code\": null\\n    },\\n    {\\n        \"account_id\": \"8eevpQkDlBSrB1ZMGyjmuabQQNlVmrcwZLWAg\",\\n        \"account_owner\": null,\\n        \"amount\": 500,\\n        \"authorized_date\": null,\\n        \"category\": [\\n            \"Travel\",\\n            \"Airlines and Aviation Services\"\\n        ],\\n        \"category_id\": \"22001000\",\\n        \"date\": \"2019-11-02\",\\n        \"iso_currency_code\": \"USD\",\\n        \"location\": {\\n            \"address\": null,\\n            \"city\": null,\\n            \"country\": null,\\n            \"lat\": null,\\n            \"lon\": null,\\n            \"postal_code\": null,\\n            \"region\": null,\\n            \"store_number\": null\\n        },\\n        \"name\": \"United Airlines\",\\n        \"payment_channel\": \"in store\",\\n        \"payment_meta\": {\\n            \"by_order_of\": null,\\n            \"payee\": null,\\n            \"payer\": null,\\n            \"payment_method\": null,\\n            \"payment_processor\": null,\\n            \"ppd_id\": null,\\n            \"reason\": null,\\n            \"reference_number\": null\\n        },\\n        \"pending\": false,\\n        \"pending_transaction_id\": null,\\n        \"transaction_id\": \"dvvNwr5Dx4UlNZEbx7mDUWG5g71lGxHZWjJG5\",\\n        \"transaction_type\": \"special\",\\n        \"unofficial_currency_code\": null\\n    },\\n    {\\n        \"account_id\": \"pNNl5e3P1oIk1Xb43BnQtjy11B9akpfLJVp4E\",\\n        \"account_owner\": null,\\n        \"amount\": 6.33,\\n        \"authorized_date\": null,\\n        \"category\": [\\n            \"Travel\",\\n            \"Car Service\",\\n            \"Ride Share\"\\n        ],\\n        \"category_id\": \"22006001\",\\n        \"date\": \"2019-10-31\",\\n        \"iso_currency_code\": \"USD\",\\n        \"location\": {\\n            \"address\": null,\\n            \"city\": null,\\n            \"country\": null,\\n            \"lat\": null,\\n            \"lon\": null,\\n            \"postal_code\": null,\\n            \"region\": null,\\n            \"store_number\": null\\n        },\\n        \"name\": \"Uber 072515 SF**POOL**\",\\n        \"payment_channel\": \"online\",\\n        \"payment_meta\": {\\n            \"by_order_of\": null,\\n            \"payee\": null,\\n            \"payer\": null,\\n            \"payment_method\": null,\\n            \"payment_processor\": null,\\n            \"ppd_id\": null,\\n            \"reason\": null,\\n            \"reference_number\": null\\n        },\\n        \"pending\": false,\\n        \"pending_transaction_id\": null,\\n        \"transaction_id\": \"RvvZ895QWmUdmj8eAPWbh94vzy1PEjcRvgaan\",\\n        \"transaction_type\": \"special\",\\n        \"unofficial_currency_code\": null\\n    },\\n    {\\n        \"account_id\": \"8eevpQkDlBSrB1ZMGyjmuabQQNlVmrcwZLWAg\",\\n        \"account_owner\": null,\\n        \"amount\": 500,\\n        \"authorized_date\": null,\\n        \"category\": [\\n            \"Food and Drink\",\\n            \"Restaurants\"\\n        ],\\n        \"category_id\": \"13005000\",\\n        \"date\": \"2019-10-28\",\\n        \"iso_currency_code\": \"USD\",\\n        \"location\": {\\n            \"address\": null,\\n            \"city\": null,\\n            \"country\": null,\\n            \"lat\": null,\\n            \"lon\": null,\\n            \"postal_code\": null,\\n            \"region\": null,\\n            \"store_number\": null\\n        },\\n        \"name\": \"Tectra Inc\",\\n        \"payment_channel\": \"in store\",\\n        \"payment_meta\": {\\n            \"by_order_of\": null,\\n            \"payee\": null,\\n            \"payer\": null,\\n            \"payment_method\": null,\\n            \"payment_processor\": null,\\n            \"ppd_id\": null,\\n            \"reason\": null,\\n            \"reference_number\": null\\n        },\\n        \"pending\": false,\\n        \"pending_transaction_id\": null,\\n        \"transaction_id\": \"x11RrJ7gAbCzn8x5LB93HLngXvq7nxinG36NW\",\\n        \"transaction_type\": \"place\",\\n        \"unofficial_currency_code\": null\\n    },\\n    {\\n        \"account_id\": \"8eevpQkDlBSrB1ZMGyjmuabQQNlVmrcwZLWAg\",\\n        \"account_owner\": null,\\n        \"amount\": 2078.5,\\n        \"authorized_date\": null,\\n        \"category\": [\\n            \"Payment\"\\n        ],\\n        \"category_id\": \"16000000\",\\n        \"date\": \"2019-10-27\",\\n        \"iso_currency_code\": \"USD\",\\n        \"location\": {\\n            \"address\": null,\\n            \"city\": null,\\n            \"country\": null,\\n            \"lat\": null,\\n            \"lon\": null,\\n            \"postal_code\": null,\\n            \"region\": null,\\n            \"store_number\": null\\n        },\\n        \"name\": \"AUTOMATIC PAYMENT - THANK\",\\n        \"payment_channel\": \"other\",\\n        \"payment_meta\": {\\n            \"by_order_of\": null,\\n            \"payee\": null,\\n            \"payer\": null,\\n            \"payment_method\": null,\\n            \"payment_processor\": null,\\n            \"ppd_id\": null,\\n            \"reason\": null,\\n            \"reference_number\": null\\n        },\\n        \"pending\": false,\\n        \"pending_transaction_id\": null,\\n        \"transaction_id\": \"344LKNpGylH1zAGn46lyCrJmnRglJBiq1DZP5\",\\n        \"transaction_type\": \"special\",\\n        \"unofficial_currency_code\": null\\n    },\\n    {\\n        \"account_id\": \"8eevpQkDlBSrB1ZMGyjmuabQQNlVmrcwZLWAg\",\\n        \"account_owner\": null,\\n        \"amount\": 500,\\n        \"authorized_date\": null,\\n        \"category\": [\\n            \"Food and Drink\",\\n            \"Restaurants\"\\n        ],\\n        \"category_id\": \"13005000\",\\n        \"date\": \"2019-10-27\",\\n        \"iso_currency_code\": \"USD\",\\n        \"location\": {\\n            \"address\": null,\\n            \"city\": null,\\n            \"country\": null,\\n            \"lat\": null,\\n            \"lon\": null,\\n            \"postal_code\": null,\\n            \"region\": null,\\n            \"store_number\": null\\n        },\\n        \"name\": \"KFC\",\\n        \"payment_channel\": \"in store\",\\n        \"payment_meta\": {\\n            \"by_order_of\": null,\\n            \"payee\": null,\\n            \"payer\": null,\\n            \"payment_method\": null,\\n            \"payment_processor\": null,\\n            \"ppd_id\": null,\\n            \"reason\": null,\\n            \"reference_number\": null\\n        },\\n        \"pending\": false,\\n        \"pending_transaction_id\": null,\\n        \"transaction_id\": \"BEEvRm6D4efjvnA1yrklHybVaQlXbxuwKb4Za\",\\n        \"transaction_type\": \"place\",\\n        \"unofficial_currency_code\": null\\n    },\\n    {\\n        \"account_id\": \"8eevpQkDlBSrB1ZMGyjmuabQQNlVmrcwZLWAg\",\\n        \"account_owner\": null,\\n        \"amount\": 500,\\n        \"authorized_date\": null,\\n        \"category\": [\\n            \"Shops\",\\n            \"Sporting Goods\"\\n        ],\\n        \"category_id\": \"19046000\",\\n        \"date\": \"2019-10-27\",\\n        \"iso_currency_code\": \"USD\",\\n        \"location\": {\\n            \"address\": null,\\n            \"city\": null,\\n            \"country\": null,\\n            \"lat\": null,\\n            \"lon\": null,\\n            \"postal_code\": null,\\n            \"region\": null,\\n            \"store_number\": null\\n        },\\n        \"name\": \"Madison Bicycle Shop\",\\n        \"payment_channel\": \"in store\",\\n        \"payment_meta\": {\\n            \"by_order_of\": null,\\n            \"payee\": null,\\n            \"payer\": null,\\n            \"payment_method\": null,\\n            \"payment_processor\": null,\\n            \"ppd_id\": null,\\n            \"reason\": null,\\n            \"reference_number\": null\\n        },\\n        \"pending\": false,\\n        \"pending_transaction_id\": null,\\n        \"transaction_id\": \"zppAmbQakysyjezgxm1RtQ9WZD7P9dCov5lqe\",\\n        \"transaction_type\": \"place\",\\n        \"unofficial_currency_code\": null\\n    }\\n]'"
      ]
     },
     "execution_count": 29,
     "metadata": {},
     "output_type": "execute_result"
    }
   ],
   "source": [
    "#Print Output\n",
    "transactions = json.dumps(transactions_response['transactions'], indent=4, sort_keys=True)\n",
    "print(transactions)"
   ]
  },
  {
   "cell_type": "markdown",
   "metadata": {},
   "source": [
    "### 2. Print the categories for each transaction"
   ]
  },
  {
   "cell_type": "code",
   "execution_count": 30,
   "metadata": {},
   "outputs": [
    {
     "ename": "TypeError",
     "evalue": "string indices must be integers",
     "output_type": "error",
     "traceback": [
      "\u001b[1;31m---------------------------------------------------------------------------\u001b[0m",
      "\u001b[1;31mTypeError\u001b[0m                                 Traceback (most recent call last)",
      "\u001b[1;32m<ipython-input-30-e6ece55aa1db>\u001b[0m in \u001b[0;36m<module>\u001b[1;34m\u001b[0m\n\u001b[1;32m----> 1\u001b[1;33m \u001b[0mcategories\u001b[0m \u001b[1;33m=\u001b[0m \u001b[0mlist\u001b[0m\u001b[1;33m(\u001b[0m\u001b[0mtransactions\u001b[0m\u001b[1;33m[\u001b[0m\u001b[1;34m'Categorical Column Name'\u001b[0m\u001b[1;33m]\u001b[0m\u001b[1;33m.\u001b[0m\u001b[0mvalue_counts\u001b[0m\u001b[1;33m(\u001b[0m\u001b[1;33m)\u001b[0m\u001b[1;33m.\u001b[0m\u001b[0mindex\u001b[0m\u001b[1;33m)\u001b[0m\u001b[1;33m\u001b[0m\u001b[1;33m\u001b[0m\u001b[0m\n\u001b[0m",
      "\u001b[1;31mTypeError\u001b[0m: string indices must be integers"
     ]
    }
   ],
   "source": [
    "categories = list(transactions['Categorical Column Name'].value_counts().index)"
   ]
  },
  {
   "cell_type": "markdown",
   "metadata": {},
   "source": [
    "### 3. Create a new DataFrame using the following fields from the JSON transaction data: date, name, amount, category. \n",
    "\n",
    "(For categories with more than one label, just use the first category label in the list)"
   ]
  },
  {
   "cell_type": "code",
   "execution_count": null,
   "metadata": {},
   "outputs": [],
   "source": []
  },
  {
   "cell_type": "markdown",
   "metadata": {},
   "source": [
    "### 4. Convert the data types to the appropriate types \n",
    "\n",
    "(i.e. datetimeindex for the date and float for the amount)"
   ]
  },
  {
   "cell_type": "code",
   "execution_count": null,
   "metadata": {},
   "outputs": [],
   "source": []
  },
  {
   "cell_type": "markdown",
   "metadata": {},
   "source": [
    "---"
   ]
  },
  {
   "cell_type": "markdown",
   "metadata": {},
   "source": [
    "# Income Analysis with Plaid\n",
    "\n",
    "In this section, you will use the Plaid Sandbox to complete the following:\n",
    "1. Determine the previous year's gross income and print the results\n",
    "2. Determine the current monthly income and print the results\n",
    "3. Determine the projected yearly income and print the results"
   ]
  },
  {
   "cell_type": "code",
   "execution_count": null,
   "metadata": {},
   "outputs": [],
   "source": []
  },
  {
   "cell_type": "markdown",
   "metadata": {},
   "source": [
    "---"
   ]
  },
  {
   "cell_type": "markdown",
   "metadata": {},
   "source": [
    "# Budget Analysis\n",
    "In this section, you will use the transactions DataFrame to analyze the customer's budget\n",
    "\n",
    "1. Calculate the total spending per category and print the results (Hint: groupby or count transactions per category)\n",
    "2. Generate a bar chart with the number of transactions for each category \n",
    "3. Calculate the expenses per month\n",
    "4. Plot the total expenses per month"
   ]
  },
  {
   "cell_type": "markdown",
   "metadata": {},
   "source": [
    "### Calculate the expenses per category"
   ]
  },
  {
   "cell_type": "code",
   "execution_count": null,
   "metadata": {},
   "outputs": [],
   "source": []
  },
  {
   "cell_type": "markdown",
   "metadata": {},
   "source": [
    "### Calculate the expenses per month"
   ]
  },
  {
   "cell_type": "code",
   "execution_count": null,
   "metadata": {},
   "outputs": [],
   "source": []
  }
 ],
 "metadata": {
  "kernel_info": {
   "name": "dev"
  },
  "kernelspec": {
   "display_name": "Python 3",
   "language": "python",
   "name": "python3"
  },
  "language_info": {
   "codemirror_mode": {
    "name": "ipython",
    "version": 3
   },
   "file_extension": ".py",
   "mimetype": "text/x-python",
   "name": "python",
   "nbconvert_exporter": "python",
   "pygments_lexer": "ipython3",
   "version": "3.7.4"
  },
  "nteract": {
   "version": "0.12.3"
  }
 },
 "nbformat": 4,
 "nbformat_minor": 4
}
