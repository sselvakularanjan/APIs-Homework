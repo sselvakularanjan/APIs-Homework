{
 "cells": [
  {
   "cell_type": "code",
   "execution_count": 1,
   "metadata": {},
   "outputs": [],
   "source": [
    "import numpy as np\n",
    "import pandas as pd\n",
    "from datetime import datetime, timedelta\n",
    "import matplotlib.pyplot as plt\n",
    "%matplotlib inline"
   ]
  },
  {
   "cell_type": "code",
   "execution_count": 2,
   "metadata": {},
   "outputs": [],
   "source": [
    "np.random.seed(42)"
   ]
  },
  {
   "cell_type": "markdown",
   "metadata": {},
   "source": [
    "# Portfolio Planner\n",
    "\n",
    "In this activity, you will use the iexfinance api to grab historical data for a 60/40 portfolio using `SPY` to represent the stock portion and `AGG` to represent the bonds."
   ]
  },
  {
   "cell_type": "code",
   "execution_count": 3,
   "metadata": {},
   "outputs": [],
   "source": [
    "from iexfinance.stocks import get_historical_data\n",
    "import iexfinance as iex"
   ]
  },
  {
   "cell_type": "markdown",
   "metadata": {},
   "source": [
    "# Data Collection\n",
    "\n",
    "In this step, you will need to use the IEX api to fetch closing prices for the `SPY` and `AGG` tickers. Save the results as a pandas DataFrame"
   ]
  },
  {
   "cell_type": "code",
   "execution_count": null,
   "metadata": {},
   "outputs": [],
   "source": [
    "#Set the List of Tickers\n",
    "tickers = [\"SPY\", \"AGG\"]\n",
    "\n",
    "# Set start and end datetimes of 1 year, between now and 365 days ago.\n",
    "end_date = datetime.now()\n",
    "start_date = end_date + timedelta(-365)\n",
    "\n",
    "# Get 1 year's worth of historical data\n",
    "df = get_historical_data(tickers, start_date, end_date,  output_format='pandas')\n",
    "df.head()"
   ]
  },
  {
   "cell_type": "code",
   "execution_count": null,
   "metadata": {},
   "outputs": [],
   "source": [
    "#Drop Extraneous Columns\n",
    "df.drop(columns=['open', 'high', 'low', 'volume'], level=1, inplace=True)\n",
    "df.head()"
   ]
  },
  {
   "cell_type": "markdown",
   "metadata": {},
   "source": [
    "# Monte Carlo Simulation\n",
    "\n",
    "In this step, you will run Monte Carlo Simulations for your portfolio to model portfolio performance at different retirement ages. \n",
    "\n",
    "Complete the following steps:\n",
    "1. Calculate the daily returns for the SPY and AGG closing prices.\n",
    "2. Calculate volatility for both the SPY and AGG closing prices.\n",
    "3. Find the last day's closing price for both stocks and save those as variables.\n",
    "4. Run a Monte Carlo Simulation of at least 500 iterations and generate at least 30 years of closing prices\n",
    "\n",
    "### HINTS:\n",
    "There are 252 trading days per year, so the number of records to generate for each Monte Carlo run will be 252 days * 30 years"
   ]
  },
  {
   "cell_type": "code",
   "execution_count": 6,
   "metadata": {},
   "outputs": [
    {
     "data": {
      "text/html": [
       "<div>\n",
       "<style scoped>\n",
       "    .dataframe tbody tr th:only-of-type {\n",
       "        vertical-align: middle;\n",
       "    }\n",
       "\n",
       "    .dataframe tbody tr th {\n",
       "        vertical-align: top;\n",
       "    }\n",
       "\n",
       "    .dataframe thead tr th {\n",
       "        text-align: left;\n",
       "    }\n",
       "\n",
       "    .dataframe thead tr:last-of-type th {\n",
       "        text-align: right;\n",
       "    }\n",
       "</style>\n",
       "<table border=\"1\" class=\"dataframe\">\n",
       "  <thead>\n",
       "    <tr>\n",
       "      <th></th>\n",
       "      <th>SPY</th>\n",
       "      <th>AGG</th>\n",
       "    </tr>\n",
       "    <tr>\n",
       "      <th></th>\n",
       "      <th>close</th>\n",
       "      <th>close</th>\n",
       "    </tr>\n",
       "    <tr>\n",
       "      <th>date</th>\n",
       "      <th></th>\n",
       "      <th></th>\n",
       "    </tr>\n",
       "  </thead>\n",
       "  <tbody>\n",
       "    <tr>\n",
       "      <td>2019-01-22</td>\n",
       "      <td>NaN</td>\n",
       "      <td>NaN</td>\n",
       "    </tr>\n",
       "    <tr>\n",
       "      <td>2019-01-23</td>\n",
       "      <td>0.002092</td>\n",
       "      <td>0.001033</td>\n",
       "    </tr>\n",
       "    <tr>\n",
       "      <td>2019-01-24</td>\n",
       "      <td>0.000531</td>\n",
       "      <td>0.001689</td>\n",
       "    </tr>\n",
       "    <tr>\n",
       "      <td>2019-01-25</td>\n",
       "      <td>0.008461</td>\n",
       "      <td>-0.000468</td>\n",
       "    </tr>\n",
       "    <tr>\n",
       "      <td>2019-01-28</td>\n",
       "      <td>-0.007600</td>\n",
       "      <td>-0.000562</td>\n",
       "    </tr>\n",
       "  </tbody>\n",
       "</table>\n",
       "</div>"
      ],
      "text/plain": [
       "                 SPY       AGG\n",
       "               close     close\n",
       "date                          \n",
       "2019-01-22       NaN       NaN\n",
       "2019-01-23  0.002092  0.001033\n",
       "2019-01-24  0.000531  0.001689\n",
       "2019-01-25  0.008461 -0.000468\n",
       "2019-01-28 -0.007600 -0.000562"
      ]
     },
     "execution_count": 6,
     "metadata": {},
     "output_type": "execute_result"
    }
   ],
   "source": [
    "# Calculate the Daily ROI for the Stocks\n",
    "daily_returns = df.pct_change()\n",
    "daily_returns.head()"
   ]
  },
  {
   "cell_type": "code",
   "execution_count": 8,
   "metadata": {},
   "outputs": [],
   "source": [
    "# Calculate Value of Average Daily Returns\n",
    "avg_daily_returns_spy = daily_returns.mean()['SPY']['close']\n",
    "avg_daily_returns_agg = daily_returns.mean()['AGG']['close']"
   ]
  },
  {
   "cell_type": "code",
   "execution_count": 10,
   "metadata": {},
   "outputs": [],
   "source": [
    "# Calculate volatility\n",
    "std_dev_daily_returns_spy = daily_returns.std()['SPY']['close']\n",
    "std_dev_daily_returns_agg = daily_returns.std()['AGG']['close']"
   ]
  },
  {
   "cell_type": "code",
   "execution_count": 11,
   "metadata": {},
   "outputs": [],
   "source": [
    "# Save the last day's closing price\n",
    "spy_last_price = df['SPY']['close'][-1]\n",
    "agg_last_price = df['AGG']['close'][-1]"
   ]
  },
  {
   "cell_type": "code",
   "execution_count": 30,
   "metadata": {},
   "outputs": [],
   "source": [
    "# Setup the Monte Carlo Parameters\n",
    "number_simulations = 100\n",
    "number_records = 252\n",
    "monte_carlo = pd.DataFrame()\n",
    "portfolio_cumulative_returns = pd.DataFrame()"
   ]
  },
  {
   "cell_type": "code",
   "execution_count": 26,
   "metadata": {},
   "outputs": [
    {
     "data": {
      "text/html": [
       "<div>\n",
       "<style scoped>\n",
       "    .dataframe tbody tr th:only-of-type {\n",
       "        vertical-align: middle;\n",
       "    }\n",
       "\n",
       "    .dataframe tbody tr th {\n",
       "        vertical-align: top;\n",
       "    }\n",
       "\n",
       "    .dataframe thead th {\n",
       "        text-align: right;\n",
       "    }\n",
       "</style>\n",
       "<table border=\"1\" class=\"dataframe\">\n",
       "  <thead>\n",
       "    <tr style=\"text-align: right;\">\n",
       "      <th></th>\n",
       "      <th>0</th>\n",
       "      <th>1</th>\n",
       "      <th>2</th>\n",
       "      <th>3</th>\n",
       "      <th>4</th>\n",
       "      <th>5</th>\n",
       "      <th>6</th>\n",
       "      <th>7</th>\n",
       "      <th>8</th>\n",
       "      <th>9</th>\n",
       "      <th>...</th>\n",
       "      <th>90</th>\n",
       "      <th>91</th>\n",
       "      <th>92</th>\n",
       "      <th>93</th>\n",
       "      <th>94</th>\n",
       "      <th>95</th>\n",
       "      <th>96</th>\n",
       "      <th>97</th>\n",
       "      <th>98</th>\n",
       "      <th>99</th>\n",
       "    </tr>\n",
       "  </thead>\n",
       "  <tbody>\n",
       "    <tr>\n",
       "      <td>0</td>\n",
       "      <td>1.000000</td>\n",
       "      <td>1.000000</td>\n",
       "      <td>1.000000</td>\n",
       "      <td>1.000000</td>\n",
       "      <td>1.000000</td>\n",
       "      <td>1.000000</td>\n",
       "      <td>1.000000</td>\n",
       "      <td>1.000000</td>\n",
       "      <td>1.000000</td>\n",
       "      <td>1.000000</td>\n",
       "      <td>...</td>\n",
       "      <td>1.000000</td>\n",
       "      <td>1.000000</td>\n",
       "      <td>1.000000</td>\n",
       "      <td>1.000000</td>\n",
       "      <td>1.000000</td>\n",
       "      <td>1.000000</td>\n",
       "      <td>1.000000</td>\n",
       "      <td>1.000000</td>\n",
       "      <td>1.000000</td>\n",
       "      <td>1.000000</td>\n",
       "    </tr>\n",
       "    <tr>\n",
       "      <td>1</td>\n",
       "      <td>1.005661</td>\n",
       "      <td>1.000865</td>\n",
       "      <td>0.996622</td>\n",
       "      <td>1.001147</td>\n",
       "      <td>1.002532</td>\n",
       "      <td>0.993231</td>\n",
       "      <td>1.001931</td>\n",
       "      <td>1.009974</td>\n",
       "      <td>1.007435</td>\n",
       "      <td>1.006367</td>\n",
       "      <td>...</td>\n",
       "      <td>1.000832</td>\n",
       "      <td>0.989826</td>\n",
       "      <td>1.002241</td>\n",
       "      <td>1.005096</td>\n",
       "      <td>0.992170</td>\n",
       "      <td>1.000443</td>\n",
       "      <td>1.001756</td>\n",
       "      <td>0.992858</td>\n",
       "      <td>0.996610</td>\n",
       "      <td>0.996864</td>\n",
       "    </tr>\n",
       "    <tr>\n",
       "      <td>2</td>\n",
       "      <td>1.004972</td>\n",
       "      <td>0.997051</td>\n",
       "      <td>0.993607</td>\n",
       "      <td>1.000535</td>\n",
       "      <td>0.996484</td>\n",
       "      <td>0.994096</td>\n",
       "      <td>0.999189</td>\n",
       "      <td>1.010362</td>\n",
       "      <td>1.003088</td>\n",
       "      <td>1.005625</td>\n",
       "      <td>...</td>\n",
       "      <td>1.003693</td>\n",
       "      <td>0.987998</td>\n",
       "      <td>1.002473</td>\n",
       "      <td>1.017256</td>\n",
       "      <td>0.996286</td>\n",
       "      <td>0.997645</td>\n",
       "      <td>1.000470</td>\n",
       "      <td>0.991283</td>\n",
       "      <td>1.001473</td>\n",
       "      <td>1.000515</td>\n",
       "    </tr>\n",
       "    <tr>\n",
       "      <td>3</td>\n",
       "      <td>1.000282</td>\n",
       "      <td>0.994161</td>\n",
       "      <td>1.000750</td>\n",
       "      <td>1.000783</td>\n",
       "      <td>0.999445</td>\n",
       "      <td>0.998454</td>\n",
       "      <td>0.996602</td>\n",
       "      <td>1.017851</td>\n",
       "      <td>0.998083</td>\n",
       "      <td>1.005034</td>\n",
       "      <td>...</td>\n",
       "      <td>1.001628</td>\n",
       "      <td>0.984601</td>\n",
       "      <td>1.006955</td>\n",
       "      <td>1.011374</td>\n",
       "      <td>1.005985</td>\n",
       "      <td>0.994272</td>\n",
       "      <td>0.998098</td>\n",
       "      <td>0.986425</td>\n",
       "      <td>0.999317</td>\n",
       "      <td>1.002071</td>\n",
       "    </tr>\n",
       "    <tr>\n",
       "      <td>4</td>\n",
       "      <td>1.002056</td>\n",
       "      <td>0.995645</td>\n",
       "      <td>1.007063</td>\n",
       "      <td>1.006278</td>\n",
       "      <td>1.000763</td>\n",
       "      <td>1.002481</td>\n",
       "      <td>1.000364</td>\n",
       "      <td>1.018881</td>\n",
       "      <td>1.000567</td>\n",
       "      <td>1.014164</td>\n",
       "      <td>...</td>\n",
       "      <td>1.006969</td>\n",
       "      <td>0.978514</td>\n",
       "      <td>1.022035</td>\n",
       "      <td>1.008476</td>\n",
       "      <td>0.999301</td>\n",
       "      <td>0.984005</td>\n",
       "      <td>0.994434</td>\n",
       "      <td>0.984073</td>\n",
       "      <td>1.003111</td>\n",
       "      <td>0.998605</td>\n",
       "    </tr>\n",
       "  </tbody>\n",
       "</table>\n",
       "<p>5 rows × 100 columns</p>\n",
       "</div>"
      ],
      "text/plain": [
       "         0         1         2         3         4         5         6   \\\n",
       "0  1.000000  1.000000  1.000000  1.000000  1.000000  1.000000  1.000000   \n",
       "1  1.005661  1.000865  0.996622  1.001147  1.002532  0.993231  1.001931   \n",
       "2  1.004972  0.997051  0.993607  1.000535  0.996484  0.994096  0.999189   \n",
       "3  1.000282  0.994161  1.000750  1.000783  0.999445  0.998454  0.996602   \n",
       "4  1.002056  0.995645  1.007063  1.006278  1.000763  1.002481  1.000364   \n",
       "\n",
       "         7         8         9   ...        90        91        92        93  \\\n",
       "0  1.000000  1.000000  1.000000  ...  1.000000  1.000000  1.000000  1.000000   \n",
       "1  1.009974  1.007435  1.006367  ...  1.000832  0.989826  1.002241  1.005096   \n",
       "2  1.010362  1.003088  1.005625  ...  1.003693  0.987998  1.002473  1.017256   \n",
       "3  1.017851  0.998083  1.005034  ...  1.001628  0.984601  1.006955  1.011374   \n",
       "4  1.018881  1.000567  1.014164  ...  1.006969  0.978514  1.022035  1.008476   \n",
       "\n",
       "         94        95        96        97        98        99  \n",
       "0  1.000000  1.000000  1.000000  1.000000  1.000000  1.000000  \n",
       "1  0.992170  1.000443  1.001756  0.992858  0.996610  0.996864  \n",
       "2  0.996286  0.997645  1.000470  0.991283  1.001473  1.000515  \n",
       "3  1.005985  0.994272  0.998098  0.986425  0.999317  1.002071  \n",
       "4  0.999301  0.984005  0.994434  0.984073  1.003111  0.998605  \n",
       "\n",
       "[5 rows x 100 columns]"
      ]
     },
     "execution_count": 26,
     "metadata": {},
     "output_type": "execute_result"
    }
   ],
   "source": [
    "# Run the Monte Carlo Simulation\n",
    "for x in range (number_simulations):\n",
    "    simulated_spy_prices = [spy_last_price]\n",
    "    simulated_agg_prices = [agg_last_price]\n",
    "    for y in range (number_records):\n",
    "        simulated_spy_price = simulated_spy_prices[-1] * (1 + np.random.normal(avg_daily_returns_spy, std_dev_daily_returns_spy))\n",
    "        simulated_agg_price = simulated_agg_prices[-1] * (1 + np.random.normal(avg_daily_returns_agg, std_dev_daily_returns_agg))\n",
    "        simulated_spy_prices.append(simulated_spy_price)\n",
    "        simulated_agg_prices.append(simulated_agg_price)\n",
    "    monte_carlo['SPY prices'] = pd.Series(simulated_spy_prices)\n",
    "    monte_carlo['AGG prices'] = pd.Series(simulated_agg_prices)\n",
    "    simulated_daily_returns = monte_carlo.pct_change()\n",
    "    weights = [0.6, 0.4]\n",
    "    portfolio_daily_returns = simulated_daily_returns.dot(weights)\n",
    "    portfolio_cumulative_returns[x] = (1 + portfolio_daily_returns.fillna(0)).cumprod()\n",
    "portfolio_cumulative_returns.head()"
   ]
  },
  {
   "cell_type": "code",
   "execution_count": 42,
   "metadata": {},
   "outputs": [
    {
     "data": {
      "text/plain": [
       "<matplotlib.axes._subplots.AxesSubplot at 0x1e4b9d502c8>"
      ]
     },
     "execution_count": 42,
     "metadata": {},
     "output_type": "execute_result"
    },
    {
     "data": {
      "image/png": "[encoded data removed]",
      "text/plain": [
       "<Figure size 864x504 with 1 Axes>"
      ]
     },
     "metadata": {
      "needs_background": "light"
     },
     "output_type": "display_data"
    }
   ],
   "source": [
    "# Visualize the Simulation\n",
    "plot_title = f\"{number_simulations} Simulations of Cumulative Portfolio Return Trajectories Over the Next {number_records} Trading Days\"\n",
    "portfolio_cumulative_returns.plot(legend=None, title=plot_title, figsize=(15,10))"
   ]
  },
  {
   "cell_type": "code",
   "execution_count": 32,
   "metadata": {},
   "outputs": [],
   "source": [
    "# Setup the Monte Carlo Parameters (~ 30 years)\n",
    "number_simulations = 500\n",
    "number_records = 252 * 30"
   ]
  },
  {
   "cell_type": "code",
   "execution_count": 33,
   "metadata": {},
   "outputs": [
    {
     "data": {
      "text/html": [
       "<div>\n",
       "<style scoped>\n",
       "    .dataframe tbody tr th:only-of-type {\n",
       "        vertical-align: middle;\n",
       "    }\n",
       "\n",
       "    .dataframe tbody tr th {\n",
       "        vertical-align: top;\n",
       "    }\n",
       "\n",
       "    .dataframe thead th {\n",
       "        text-align: right;\n",
       "    }\n",
       "</style>\n",
       "<table border=\"1\" class=\"dataframe\">\n",
       "  <thead>\n",
       "    <tr style=\"text-align: right;\">\n",
       "      <th></th>\n",
       "      <th>0</th>\n",
       "      <th>1</th>\n",
       "      <th>2</th>\n",
       "      <th>3</th>\n",
       "      <th>4</th>\n",
       "      <th>5</th>\n",
       "      <th>6</th>\n",
       "      <th>7</th>\n",
       "      <th>8</th>\n",
       "      <th>9</th>\n",
       "      <th>...</th>\n",
       "      <th>490</th>\n",
       "      <th>491</th>\n",
       "      <th>492</th>\n",
       "      <th>493</th>\n",
       "      <th>494</th>\n",
       "      <th>495</th>\n",
       "      <th>496</th>\n",
       "      <th>497</th>\n",
       "      <th>498</th>\n",
       "      <th>499</th>\n",
       "    </tr>\n",
       "  </thead>\n",
       "  <tbody>\n",
       "    <tr>\n",
       "      <td>0</td>\n",
       "      <td>1.000000</td>\n",
       "      <td>1.000000</td>\n",
       "      <td>1.000000</td>\n",
       "      <td>1.000000</td>\n",
       "      <td>1.000000</td>\n",
       "      <td>1.000000</td>\n",
       "      <td>1.000000</td>\n",
       "      <td>1.000000</td>\n",
       "      <td>1.000000</td>\n",
       "      <td>1.000000</td>\n",
       "      <td>...</td>\n",
       "      <td>1.000000</td>\n",
       "      <td>1.000000</td>\n",
       "      <td>1.000000</td>\n",
       "      <td>1.000000</td>\n",
       "      <td>1.000000</td>\n",
       "      <td>1.000000</td>\n",
       "      <td>1.000000</td>\n",
       "      <td>1.000000</td>\n",
       "      <td>1.000000</td>\n",
       "      <td>1.000000</td>\n",
       "    </tr>\n",
       "    <tr>\n",
       "      <td>1</td>\n",
       "      <td>1.007983</td>\n",
       "      <td>0.996697</td>\n",
       "      <td>1.001229</td>\n",
       "      <td>0.993477</td>\n",
       "      <td>1.008228</td>\n",
       "      <td>0.999379</td>\n",
       "      <td>1.004272</td>\n",
       "      <td>1.002230</td>\n",
       "      <td>0.996757</td>\n",
       "      <td>0.997092</td>\n",
       "      <td>...</td>\n",
       "      <td>1.000023</td>\n",
       "      <td>1.002353</td>\n",
       "      <td>0.997625</td>\n",
       "      <td>0.998629</td>\n",
       "      <td>1.011959</td>\n",
       "      <td>1.000890</td>\n",
       "      <td>1.002601</td>\n",
       "      <td>0.996303</td>\n",
       "      <td>1.003847</td>\n",
       "      <td>1.001012</td>\n",
       "    </tr>\n",
       "    <tr>\n",
       "      <td>2</td>\n",
       "      <td>1.000019</td>\n",
       "      <td>0.995803</td>\n",
       "      <td>1.001297</td>\n",
       "      <td>0.996274</td>\n",
       "      <td>1.007155</td>\n",
       "      <td>1.001065</td>\n",
       "      <td>1.003762</td>\n",
       "      <td>1.010184</td>\n",
       "      <td>1.000353</td>\n",
       "      <td>1.002422</td>\n",
       "      <td>...</td>\n",
       "      <td>0.997503</td>\n",
       "      <td>0.998895</td>\n",
       "      <td>1.003858</td>\n",
       "      <td>0.996935</td>\n",
       "      <td>1.009565</td>\n",
       "      <td>1.000644</td>\n",
       "      <td>1.004197</td>\n",
       "      <td>0.996870</td>\n",
       "      <td>0.996047</td>\n",
       "      <td>0.995665</td>\n",
       "    </tr>\n",
       "    <tr>\n",
       "      <td>3</td>\n",
       "      <td>1.004175</td>\n",
       "      <td>0.996415</td>\n",
       "      <td>1.004310</td>\n",
       "      <td>0.986588</td>\n",
       "      <td>1.012444</td>\n",
       "      <td>1.005111</td>\n",
       "      <td>1.002154</td>\n",
       "      <td>1.019493</td>\n",
       "      <td>1.004706</td>\n",
       "      <td>1.003449</td>\n",
       "      <td>...</td>\n",
       "      <td>0.992562</td>\n",
       "      <td>1.007137</td>\n",
       "      <td>1.011021</td>\n",
       "      <td>0.986046</td>\n",
       "      <td>1.010566</td>\n",
       "      <td>0.998330</td>\n",
       "      <td>1.006013</td>\n",
       "      <td>0.991291</td>\n",
       "      <td>1.000702</td>\n",
       "      <td>0.995728</td>\n",
       "    </tr>\n",
       "    <tr>\n",
       "      <td>4</td>\n",
       "      <td>0.999492</td>\n",
       "      <td>0.999702</td>\n",
       "      <td>1.002648</td>\n",
       "      <td>0.989199</td>\n",
       "      <td>1.016745</td>\n",
       "      <td>1.001934</td>\n",
       "      <td>1.003204</td>\n",
       "      <td>1.021342</td>\n",
       "      <td>1.006818</td>\n",
       "      <td>1.006442</td>\n",
       "      <td>...</td>\n",
       "      <td>0.990937</td>\n",
       "      <td>0.998537</td>\n",
       "      <td>1.019158</td>\n",
       "      <td>0.991740</td>\n",
       "      <td>1.008777</td>\n",
       "      <td>0.998906</td>\n",
       "      <td>1.007075</td>\n",
       "      <td>0.992972</td>\n",
       "      <td>1.002484</td>\n",
       "      <td>0.985773</td>\n",
       "    </tr>\n",
       "  </tbody>\n",
       "</table>\n",
       "<p>5 rows × 500 columns</p>\n",
       "</div>"
      ],
      "text/plain": [
       "        0         1         2         3         4         5         6    \\\n",
       "0  1.000000  1.000000  1.000000  1.000000  1.000000  1.000000  1.000000   \n",
       "1  1.007983  0.996697  1.001229  0.993477  1.008228  0.999379  1.004272   \n",
       "2  1.000019  0.995803  1.001297  0.996274  1.007155  1.001065  1.003762   \n",
       "3  1.004175  0.996415  1.004310  0.986588  1.012444  1.005111  1.002154   \n",
       "4  0.999492  0.999702  1.002648  0.989199  1.016745  1.001934  1.003204   \n",
       "\n",
       "        7         8         9    ...       490       491       492       493  \\\n",
       "0  1.000000  1.000000  1.000000  ...  1.000000  1.000000  1.000000  1.000000   \n",
       "1  1.002230  0.996757  0.997092  ...  1.000023  1.002353  0.997625  0.998629   \n",
       "2  1.010184  1.000353  1.002422  ...  0.997503  0.998895  1.003858  0.996935   \n",
       "3  1.019493  1.004706  1.003449  ...  0.992562  1.007137  1.011021  0.986046   \n",
       "4  1.021342  1.006818  1.006442  ...  0.990937  0.998537  1.019158  0.991740   \n",
       "\n",
       "        494       495       496       497       498       499  \n",
       "0  1.000000  1.000000  1.000000  1.000000  1.000000  1.000000  \n",
       "1  1.011959  1.000890  1.002601  0.996303  1.003847  1.001012  \n",
       "2  1.009565  1.000644  1.004197  0.996870  0.996047  0.995665  \n",
       "3  1.010566  0.998330  1.006013  0.991291  1.000702  0.995728  \n",
       "4  1.008777  0.998906  1.007075  0.992972  1.002484  0.985773  \n",
       "\n",
       "[5 rows x 500 columns]"
      ]
     },
     "execution_count": 33,
     "metadata": {},
     "output_type": "execute_result"
    }
   ],
   "source": [
    "for x in range (number_simulations):\n",
    "    simulated_spy_prices = [spy_last_price]\n",
    "    simulated_agg_prices = [agg_last_price]\n",
    "    for y in range (number_records):\n",
    "        simulated_spy_price = simulated_spy_prices[-1] * (1 + np.random.normal(avg_daily_returns_spy, std_dev_daily_returns_spy))\n",
    "        simulated_agg_price = simulated_agg_prices[-1] * (1 + np.random.normal(avg_daily_returns_agg, std_dev_daily_returns_agg))\n",
    "        simulated_spy_prices.append(simulated_spy_price)\n",
    "        simulated_agg_prices.append(simulated_agg_price)\n",
    "    monte_carlo['SPY prices'] = pd.Series(simulated_spy_prices)\n",
    "    monte_carlo['AGG prices'] = pd.Series(simulated_agg_prices)\n",
    "    simulated_daily_returns = monte_carlo.pct_change()\n",
    "    weights = [0.6, 0.4]\n",
    "    portfolio_daily_returns = simulated_daily_returns.dot(weights)\n",
    "    portfolio_cumulative_returns[x] = (1 + portfolio_daily_returns.fillna(0)).cumprod()\n",
    "portfolio_cumulative_returns.head()"
   ]
  },
  {
   "cell_type": "code",
   "execution_count": null,
   "metadata": {},
   "outputs": [],
   "source": [
    "# Visualize the Simulation\n",
    "plot_title = f\"{number_simulations} Simulations of Cumulative Portfolio Return Trajectories Over the Next {number_records} Trading Days (~30 years)\"\n",
    "portfolio_cumulative_returns.plot(legend=None, title=plot_title, figsize=(15,10))"
   ]
  },
  {
   "cell_type": "code",
   "execution_count": 14,
   "metadata": {},
   "outputs": [],
   "source": [
    "# Select the last row for the cumulative returns (cumulative returns at 30 years)\n",
    "ending_cumulative_returns = portfolio_cumulative_returns.iloc[-1, :]\n",
    "ending_cumulative_returns.head()"
   ]
  },
  {
   "cell_type": "code",
   "execution_count": null,
   "metadata": {},
   "outputs": [],
   "source": [
    "# Select the last row for the cumulative returns (cumulative returns at 20 years)\n"
   ]
  },
  {
   "cell_type": "code",
   "execution_count": null,
   "metadata": {},
   "outputs": [],
   "source": [
    "# Display the 90% confidence interval for the ending returns\n",
    "confidence_interval = ending_culumative_returns.quantile(q[0.1, 0.9])\n",
    "ending_cumulative_returns.plot(kind='hist', density=True, bins=10, figsize=(15,10))\n",
    "plt.axvline(confidence_interval.iloc[0], color='r')\n",
    "plt.axvline(confidence_interval.iloc[1], color='r')"
   ]
  },
  {
   "cell_type": "code",
   "execution_count": null,
   "metadata": {},
   "outputs": [],
   "source": [
    "# Visualize the distribution of the ending returns\n",
    "distribution = ending_cumulative_returns.plot(legend=None, title=plot_title, figsize=(15,10))"
   ]
  },
  {
   "cell_type": "markdown",
   "metadata": {},
   "source": [
    "---"
   ]
  },
  {
   "cell_type": "markdown",
   "metadata": {},
   "source": [
    "# Retirement Analysis\n",
    "\n",
    "In this section, you will use the monte carlo model to answer the following retirement planning questions:\n",
    "\n",
    "1. What are the expected cumulative returns at 30 years for the 10th, 50th, and 90th percentiles?\n",
    "2. Given an initial investment of `$20,000`, what is the expected portfolio return in dollars at the 10th, 50th, and 90th percentiles?\n",
    "3. Given the current projected annual income from the Plaid analysis, will a 4% withdraw rate from the retirement portfolio meet or exceed that value at the 10th percentile?\n",
    "4. How would a 50% increase in the initial investment amount affect the 4% retirement withdrawal?"
   ]
  },
  {
   "cell_type": "markdown",
   "metadata": {},
   "source": [
    "### What are the expected cumulative returns at 30 years for the 10th, 50th, and 90th percentiles?"
   ]
  },
  {
   "cell_type": "code",
   "execution_count": null,
   "metadata": {},
   "outputs": [],
   "source": [
    "# Set Initial Investment\n",
    "initial_investment = 20000"
   ]
  },
  {
   "cell_type": "code",
   "execution_count": null,
   "metadata": {},
   "outputs": [],
   "source": [
    "# New Confidence Interval\n",
    "confidence_interval = ending_culumative_returns.quantile(q[0.1, 0.5, 0.9])"
   ]
  },
  {
   "cell_type": "code",
   "execution_count": null,
   "metadata": {},
   "outputs": [],
   "source": [
    "# Calculate Investment Profit/loss\n",
    "tenth_percentile = initial_investment + (initial_investment * new_confidence_interval.iloc[0])\n",
    "fiftieth_percentile = initial_investment + (initial_investment * new_confidence_interval.iloc[1])\n",
    "ninetieth_percentile = initial_investment + (initial_investment * new_confidence_interval.iloc[2])"
   ]
  },
  {
   "cell_type": "code",
   "execution_count": null,
   "metadata": {},
   "outputs": [],
   "source": [
    "# Print the Results\n",
    "print(f\"\"\"\n",
    "Expected cumulative returns at 30 years: \n",
    "10th percentile => {tenth_percentile}\n",
    "50th percentile => {fiftieth_percentile}\n",
    "90th percentile => {ninetieth_percentile}\n",
    "\"\"\")"
   ]
  },
  {
   "cell_type": "markdown",
   "metadata": {},
   "source": [
    "### Given an initial investment of `$20,000`, what is the expected portfolio return in dollars at the 10th, 50th, and 90th percentiles?"
   ]
  },
  {
   "cell_type": "code",
   "execution_count": null,
   "metadata": {},
   "outputs": [],
   "source": []
  },
  {
   "cell_type": "markdown",
   "metadata": {},
   "source": [
    "### Given the current projected annual income from the Plaid analysis, will a 4% withdraw rate from the retirement portfolio meet or exceed that value at the 10th percentile?\n",
    "\n",
    "Note: This is effectively saying that 90% of the expected returns will be greater than the return at the 10th percentile, so this can help measure the uncertainty about having enough funds at retirement"
   ]
  },
  {
   "cell_type": "code",
   "execution_count": null,
   "metadata": {},
   "outputs": [],
   "source": []
  },
  {
   "cell_type": "markdown",
   "metadata": {},
   "source": [
    "### How would a 50% increase in the initial investment amount affect the 4% retirement withdrawal?"
   ]
  },
  {
   "cell_type": "code",
   "execution_count": null,
   "metadata": {},
   "outputs": [],
   "source": [
    "# Set Initial Investment\n",
    "new_initial = 20000 + (20000*.5)"
   ]
  },
  {
   "cell_type": "markdown",
   "metadata": {},
   "source": [
    "### Optional Challenge\n",
    "\n",
    "In this section, you will calculate and plot the cumulative returns for the median and 90% confidence intervals. This plot shows the expected cumulative returns for any given day between the first day and the last day of investment. "
   ]
  },
  {
   "cell_type": "code",
   "execution_count": null,
   "metadata": {},
   "outputs": [],
   "source": []
  }
 ],
 "metadata": {
  "kernel_info": {
   "name": "dev"
  },
  "kernelspec": {
   "display_name": "Python 3",
   "language": "python",
   "name": "python3"
  },
  "language_info": {
   "codemirror_mode": {
    "name": "ipython",
    "version": 3
   },
   "file_extension": ".py",
   "mimetype": "text/x-python",
   "name": "python",
   "nbconvert_exporter": "python",
   "pygments_lexer": "ipython3",
   "version": "3.7.4"
  },
  "nteract": {
   "version": "0.12.3"
  }
 },
 "nbformat": 4,
 "nbformat_minor": 4
}
